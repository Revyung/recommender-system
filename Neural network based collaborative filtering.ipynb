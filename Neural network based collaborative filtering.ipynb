{
 "cells": [
  {
   "cell_type": "markdown",
   "metadata": {},
   "source": [
    "# MovieLens dataset and preprocessing"
   ]
  },
  {
   "cell_type": "code",
   "execution_count": 1,
   "metadata": {
    "scrolled": true
   },
   "outputs": [
    {
     "name": "stdout",
     "output_type": "stream",
     "text": [
      "Warning: Failed to set locale category LC_NUMERIC to en_HK.\n",
      "Warning: Failed to set locale category LC_TIME to en_HK.\n",
      "Warning: Failed to set locale category LC_COLLATE to en_HK.\n",
      "Warning: Failed to set locale category LC_MONETARY to en_HK.\n",
      "Warning: Failed to set locale category LC_MESSAGES to en_HK.\n",
      "--2020-02-27 04:35:42--  http://files.grouplens.org/datasets/movielens/ml-latest-small.zip\n",
      "Resolving files.grouplens.org (files.grouplens.org)... 128.101.65.152\n",
      "Connecting to files.grouplens.org (files.grouplens.org)|128.101.65.152|:80... connected.\n",
      "HTTP request sent, awaiting response... 200 OK\n",
      "Length: 978202 (955K) [application/zip]\n",
      "Saving to: ‘ml-latest-small.zip’\n",
      "\n",
      "ml-latest-small.zip 100%[===================>] 955.28K   825KB/s    in 1.2s    \n",
      "\n",
      "2020-02-27 04:35:43 (825 KB/s) - ‘ml-latest-small.zip’ saved [978202/978202]\n",
      "\n",
      "Archive:  ml-latest-small.zip\n",
      "   creating: ml-latest-small/\n",
      "  inflating: ml-latest-small/links.csv  \n",
      "  inflating: ml-latest-small/tags.csv  \n",
      "  inflating: ml-latest-small/ratings.csv  \n",
      "  inflating: ml-latest-small/README.txt  \n",
      "  inflating: ml-latest-small/movies.csv  \n"
     ]
    }
   ],
   "source": [
    "!wget http://files.grouplens.org/datasets/movielens/ml-latest-small.zip\n",
    "!unzip ml-latest-small.zip"
   ]
  },
  {
   "cell_type": "code",
   "execution_count": 1,
   "metadata": {},
   "outputs": [
    {
     "data": {
      "text/html": [
       "<div>\n",
       "<style scoped>\n",
       "    .dataframe tbody tr th:only-of-type {\n",
       "        vertical-align: middle;\n",
       "    }\n",
       "\n",
       "    .dataframe tbody tr th {\n",
       "        vertical-align: top;\n",
       "    }\n",
       "\n",
       "    .dataframe thead th {\n",
       "        text-align: right;\n",
       "    }\n",
       "</style>\n",
       "<table border=\"1\" class=\"dataframe\">\n",
       "  <thead>\n",
       "    <tr style=\"text-align: right;\">\n",
       "      <th></th>\n",
       "      <th>movieId</th>\n",
       "      <th>imdbId</th>\n",
       "      <th>tmdbId</th>\n",
       "    </tr>\n",
       "  </thead>\n",
       "  <tbody>\n",
       "    <tr>\n",
       "      <td>0</td>\n",
       "      <td>1</td>\n",
       "      <td>114709</td>\n",
       "      <td>862.0</td>\n",
       "    </tr>\n",
       "    <tr>\n",
       "      <td>1</td>\n",
       "      <td>2</td>\n",
       "      <td>113497</td>\n",
       "      <td>8844.0</td>\n",
       "    </tr>\n",
       "    <tr>\n",
       "      <td>2</td>\n",
       "      <td>3</td>\n",
       "      <td>113228</td>\n",
       "      <td>15602.0</td>\n",
       "    </tr>\n",
       "    <tr>\n",
       "      <td>3</td>\n",
       "      <td>4</td>\n",
       "      <td>114885</td>\n",
       "      <td>31357.0</td>\n",
       "    </tr>\n",
       "    <tr>\n",
       "      <td>4</td>\n",
       "      <td>5</td>\n",
       "      <td>113041</td>\n",
       "      <td>11862.0</td>\n",
       "    </tr>\n",
       "  </tbody>\n",
       "</table>\n",
       "</div>"
      ],
      "text/plain": [
       "   movieId  imdbId   tmdbId\n",
       "0        1  114709    862.0\n",
       "1        2  113497   8844.0\n",
       "2        3  113228  15602.0\n",
       "3        4  114885  31357.0\n",
       "4        5  113041  11862.0"
      ]
     },
     "metadata": {},
     "output_type": "display_data"
    },
    {
     "data": {
      "text/html": [
       "<div>\n",
       "<style scoped>\n",
       "    .dataframe tbody tr th:only-of-type {\n",
       "        vertical-align: middle;\n",
       "    }\n",
       "\n",
       "    .dataframe tbody tr th {\n",
       "        vertical-align: top;\n",
       "    }\n",
       "\n",
       "    .dataframe thead th {\n",
       "        text-align: right;\n",
       "    }\n",
       "</style>\n",
       "<table border=\"1\" class=\"dataframe\">\n",
       "  <thead>\n",
       "    <tr style=\"text-align: right;\">\n",
       "      <th></th>\n",
       "      <th>userId</th>\n",
       "      <th>movieId</th>\n",
       "      <th>tag</th>\n",
       "      <th>timestamp</th>\n",
       "    </tr>\n",
       "  </thead>\n",
       "  <tbody>\n",
       "    <tr>\n",
       "      <td>0</td>\n",
       "      <td>2</td>\n",
       "      <td>60756</td>\n",
       "      <td>funny</td>\n",
       "      <td>1445714994</td>\n",
       "    </tr>\n",
       "    <tr>\n",
       "      <td>1</td>\n",
       "      <td>2</td>\n",
       "      <td>60756</td>\n",
       "      <td>Highly quotable</td>\n",
       "      <td>1445714996</td>\n",
       "    </tr>\n",
       "    <tr>\n",
       "      <td>2</td>\n",
       "      <td>2</td>\n",
       "      <td>60756</td>\n",
       "      <td>will ferrell</td>\n",
       "      <td>1445714992</td>\n",
       "    </tr>\n",
       "    <tr>\n",
       "      <td>3</td>\n",
       "      <td>2</td>\n",
       "      <td>89774</td>\n",
       "      <td>Boxing story</td>\n",
       "      <td>1445715207</td>\n",
       "    </tr>\n",
       "    <tr>\n",
       "      <td>4</td>\n",
       "      <td>2</td>\n",
       "      <td>89774</td>\n",
       "      <td>MMA</td>\n",
       "      <td>1445715200</td>\n",
       "    </tr>\n",
       "  </tbody>\n",
       "</table>\n",
       "</div>"
      ],
      "text/plain": [
       "   userId  movieId              tag   timestamp\n",
       "0       2    60756            funny  1445714994\n",
       "1       2    60756  Highly quotable  1445714996\n",
       "2       2    60756     will ferrell  1445714992\n",
       "3       2    89774     Boxing story  1445715207\n",
       "4       2    89774              MMA  1445715200"
      ]
     },
     "metadata": {},
     "output_type": "display_data"
    },
    {
     "data": {
      "text/html": [
       "<div>\n",
       "<style scoped>\n",
       "    .dataframe tbody tr th:only-of-type {\n",
       "        vertical-align: middle;\n",
       "    }\n",
       "\n",
       "    .dataframe tbody tr th {\n",
       "        vertical-align: top;\n",
       "    }\n",
       "\n",
       "    .dataframe thead th {\n",
       "        text-align: right;\n",
       "    }\n",
       "</style>\n",
       "<table border=\"1\" class=\"dataframe\">\n",
       "  <thead>\n",
       "    <tr style=\"text-align: right;\">\n",
       "      <th></th>\n",
       "      <th>userId</th>\n",
       "      <th>movieId</th>\n",
       "      <th>rating</th>\n",
       "      <th>timestamp</th>\n",
       "    </tr>\n",
       "  </thead>\n",
       "  <tbody>\n",
       "    <tr>\n",
       "      <td>0</td>\n",
       "      <td>1</td>\n",
       "      <td>1</td>\n",
       "      <td>4.0</td>\n",
       "      <td>964982703</td>\n",
       "    </tr>\n",
       "    <tr>\n",
       "      <td>1</td>\n",
       "      <td>1</td>\n",
       "      <td>3</td>\n",
       "      <td>4.0</td>\n",
       "      <td>964981247</td>\n",
       "    </tr>\n",
       "    <tr>\n",
       "      <td>2</td>\n",
       "      <td>1</td>\n",
       "      <td>6</td>\n",
       "      <td>4.0</td>\n",
       "      <td>964982224</td>\n",
       "    </tr>\n",
       "    <tr>\n",
       "      <td>3</td>\n",
       "      <td>1</td>\n",
       "      <td>47</td>\n",
       "      <td>5.0</td>\n",
       "      <td>964983815</td>\n",
       "    </tr>\n",
       "    <tr>\n",
       "      <td>4</td>\n",
       "      <td>1</td>\n",
       "      <td>50</td>\n",
       "      <td>5.0</td>\n",
       "      <td>964982931</td>\n",
       "    </tr>\n",
       "  </tbody>\n",
       "</table>\n",
       "</div>"
      ],
      "text/plain": [
       "   userId  movieId  rating  timestamp\n",
       "0       1        1     4.0  964982703\n",
       "1       1        3     4.0  964981247\n",
       "2       1        6     4.0  964982224\n",
       "3       1       47     5.0  964983815\n",
       "4       1       50     5.0  964982931"
      ]
     },
     "metadata": {},
     "output_type": "display_data"
    },
    {
     "data": {
      "text/html": [
       "<div>\n",
       "<style scoped>\n",
       "    .dataframe tbody tr th:only-of-type {\n",
       "        vertical-align: middle;\n",
       "    }\n",
       "\n",
       "    .dataframe tbody tr th {\n",
       "        vertical-align: top;\n",
       "    }\n",
       "\n",
       "    .dataframe thead th {\n",
       "        text-align: right;\n",
       "    }\n",
       "</style>\n",
       "<table border=\"1\" class=\"dataframe\">\n",
       "  <thead>\n",
       "    <tr style=\"text-align: right;\">\n",
       "      <th></th>\n",
       "      <th>movieId</th>\n",
       "      <th>title</th>\n",
       "      <th>genres</th>\n",
       "    </tr>\n",
       "  </thead>\n",
       "  <tbody>\n",
       "    <tr>\n",
       "      <td>0</td>\n",
       "      <td>1</td>\n",
       "      <td>Toy Story (1995)</td>\n",
       "      <td>Adventure|Animation|Children|Comedy|Fantasy</td>\n",
       "    </tr>\n",
       "    <tr>\n",
       "      <td>1</td>\n",
       "      <td>2</td>\n",
       "      <td>Jumanji (1995)</td>\n",
       "      <td>Adventure|Children|Fantasy</td>\n",
       "    </tr>\n",
       "    <tr>\n",
       "      <td>2</td>\n",
       "      <td>3</td>\n",
       "      <td>Grumpier Old Men (1995)</td>\n",
       "      <td>Comedy|Romance</td>\n",
       "    </tr>\n",
       "    <tr>\n",
       "      <td>3</td>\n",
       "      <td>4</td>\n",
       "      <td>Waiting to Exhale (1995)</td>\n",
       "      <td>Comedy|Drama|Romance</td>\n",
       "    </tr>\n",
       "    <tr>\n",
       "      <td>4</td>\n",
       "      <td>5</td>\n",
       "      <td>Father of the Bride Part II (1995)</td>\n",
       "      <td>Comedy</td>\n",
       "    </tr>\n",
       "  </tbody>\n",
       "</table>\n",
       "</div>"
      ],
      "text/plain": [
       "   movieId                               title  \\\n",
       "0        1                    Toy Story (1995)   \n",
       "1        2                      Jumanji (1995)   \n",
       "2        3             Grumpier Old Men (1995)   \n",
       "3        4            Waiting to Exhale (1995)   \n",
       "4        5  Father of the Bride Part II (1995)   \n",
       "\n",
       "                                        genres  \n",
       "0  Adventure|Animation|Children|Comedy|Fantasy  \n",
       "1                   Adventure|Children|Fantasy  \n",
       "2                               Comedy|Romance  \n",
       "3                         Comedy|Drama|Romance  \n",
       "4                                       Comedy  "
      ]
     },
     "execution_count": 1,
     "metadata": {},
     "output_type": "execute_result"
    }
   ],
   "source": [
    "# data inspection\n",
    "import pandas as pd\n",
    "from IPython.display import display\n",
    "\n",
    "download_dir = './ml-latest-small'\n",
    "links = pd.read_csv(download_dir + '/links.csv')\n",
    "display(links.head())\n",
    "tag = pd.read_csv(download_dir + '/tags.csv')\n",
    "display(tag.head())\n",
    "ratings = pd.read_csv(download_dir + '/ratings.csv')\n",
    "display(ratings.head())\n",
    "movies = pd.read_csv(download_dir + '/movies.csv')\n",
    "movies.head()"
   ]
  },
  {
   "cell_type": "markdown",
   "metadata": {},
   "source": [
    "For this dataset, the movies are provided genres, and the time of ratings are given. Both are useful information, however the former are not usually given. The latter can tell us how the user profile has changed over years."
   ]
  },
  {
   "cell_type": "code",
   "execution_count": 2,
   "metadata": {},
   "outputs": [
    {
     "data": {
      "text/html": [
       "<div>\n",
       "<style scoped>\n",
       "    .dataframe tbody tr th:only-of-type {\n",
       "        vertical-align: middle;\n",
       "    }\n",
       "\n",
       "    .dataframe tbody tr th {\n",
       "        vertical-align: top;\n",
       "    }\n",
       "\n",
       "    .dataframe thead th {\n",
       "        text-align: right;\n",
       "    }\n",
       "</style>\n",
       "<table border=\"1\" class=\"dataframe\">\n",
       "  <thead>\n",
       "    <tr style=\"text-align: right;\">\n",
       "      <th></th>\n",
       "      <th>userId</th>\n",
       "      <th>movieId</th>\n",
       "      <th>rating</th>\n",
       "      <th>timestamp</th>\n",
       "      <th>title</th>\n",
       "      <th>genres</th>\n",
       "    </tr>\n",
       "  </thead>\n",
       "  <tbody>\n",
       "    <tr>\n",
       "      <td>0</td>\n",
       "      <td>1</td>\n",
       "      <td>1</td>\n",
       "      <td>4.0</td>\n",
       "      <td>2000</td>\n",
       "      <td>Toy Story (1995)</td>\n",
       "      <td>Adventure|Animation|Children|Comedy|Fantasy</td>\n",
       "    </tr>\n",
       "    <tr>\n",
       "      <td>1</td>\n",
       "      <td>1</td>\n",
       "      <td>3</td>\n",
       "      <td>4.0</td>\n",
       "      <td>2000</td>\n",
       "      <td>Grumpier Old Men (1995)</td>\n",
       "      <td>Comedy|Romance</td>\n",
       "    </tr>\n",
       "    <tr>\n",
       "      <td>2</td>\n",
       "      <td>1</td>\n",
       "      <td>6</td>\n",
       "      <td>4.0</td>\n",
       "      <td>2000</td>\n",
       "      <td>Heat (1995)</td>\n",
       "      <td>Action|Crime|Thriller</td>\n",
       "    </tr>\n",
       "    <tr>\n",
       "      <td>3</td>\n",
       "      <td>1</td>\n",
       "      <td>47</td>\n",
       "      <td>5.0</td>\n",
       "      <td>2000</td>\n",
       "      <td>Seven (a.k.a. Se7en) (1995)</td>\n",
       "      <td>Mystery|Thriller</td>\n",
       "    </tr>\n",
       "    <tr>\n",
       "      <td>4</td>\n",
       "      <td>1</td>\n",
       "      <td>50</td>\n",
       "      <td>5.0</td>\n",
       "      <td>2000</td>\n",
       "      <td>Usual Suspects, The (1995)</td>\n",
       "      <td>Crime|Mystery|Thriller</td>\n",
       "    </tr>\n",
       "  </tbody>\n",
       "</table>\n",
       "</div>"
      ],
      "text/plain": [
       "   userId  movieId  rating  timestamp                        title  \\\n",
       "0       1        1     4.0       2000             Toy Story (1995)   \n",
       "1       1        3     4.0       2000      Grumpier Old Men (1995)   \n",
       "2       1        6     4.0       2000                  Heat (1995)   \n",
       "3       1       47     5.0       2000  Seven (a.k.a. Se7en) (1995)   \n",
       "4       1       50     5.0       2000   Usual Suspects, The (1995)   \n",
       "\n",
       "                                        genres  \n",
       "0  Adventure|Animation|Children|Comedy|Fantasy  \n",
       "1                               Comedy|Romance  \n",
       "2                        Action|Crime|Thriller  \n",
       "3                             Mystery|Thriller  \n",
       "4                       Crime|Mystery|Thriller  "
      ]
     },
     "execution_count": 2,
     "metadata": {},
     "output_type": "execute_result"
    }
   ],
   "source": [
    "# left join genres onto ratings table\n",
    "df = ratings.join(movies.set_index('movieId'), on='movieId')\n",
    "# turn timestamp from seconds to year\n",
    "change_to_year = lambda x: pd.Timestamp(x, unit='s').year\n",
    "df.timestamp = df.timestamp.apply(change_to_year)\n",
    "df.head()"
   ]
  },
  {
   "cell_type": "markdown",
   "metadata": {},
   "source": [
    "# Neural network based collaborative filtering"
   ]
  },
  {
   "cell_type": "markdown",
   "metadata": {},
   "source": [
    "$minimize(p, q, b_i, b_u)$ $$\\sum_{(u, i)\\in K} (r_{ui} - q_i^T.p_u - \\mu_i - b_i - b_u)^2 + \\lambda(|q_i|^2 + |p_u|^2 + |b_i|^2 + |b_u|^2)$$\n",
    "\n",
    "where $q_i$, $p_u$ are the feature vectors or embeddings for movie i and user u respectively, K is the set that the rating is made for movie i from user u, $b_i$ and $b_u$ are the bias units and $\\lambda$ is our regularization hyperparameter, subtracting the $\\mu$ (mean rating for movie i) is to make sure that when doing gradient descent, due to regularization, the model will not tend to predict the rating to be 0, instead, it will tend to be the mean value for movie i.\n",
    "\n",
    "For more detail, refer to the <a href='http://citeseerx.ist.psu.edu/viewdoc/download?doi=10.1.1.173.2797&rep=rep1&type=pdf'>original paper</a> by Yunhong Zhou. et al in 2008."
   ]
  },
  {
   "cell_type": "code",
   "execution_count": 3,
   "metadata": {},
   "outputs": [],
   "source": [
    "import numpy as np\n",
    "import torch\n",
    "\n",
    "n_movies = len(df.movieId.unique())\n",
    "n_users = len(df.userId.unique())\n",
    "hidden_d = 100\n",
    "\n",
    "# prepare the mean rating vector for movies\n",
    "mu = df.groupby(['movieId']).mean()['rating']"
   ]
  },
  {
   "cell_type": "code",
   "execution_count": 4,
   "metadata": {},
   "outputs": [],
   "source": [
    "# numercially encode movieId, userId and create mapping\n",
    "movie_map = set(df.movieId.tolist())\n",
    "movie_map = {movie:i for i, movie in enumerate(movie_map)}\n",
    "\n",
    "user_map = set(df.userId.tolist())\n",
    "user_map = {user:i for i, user in enumerate(user_map)}"
   ]
  },
  {
   "cell_type": "code",
   "execution_count": 5,
   "metadata": {},
   "outputs": [],
   "source": [
    "mu = mu.reset_index()\n",
    "mu.movieId = mu.movieId.apply(lambda x: movie_map[x])\n",
    "mu = mu.sort_values(by=['movieId'])\n",
    "mu = torch.Tensor(mu.rating.tolist())"
   ]
  },
  {
   "cell_type": "markdown",
   "metadata": {},
   "source": [
    "# Define neural network architechture"
   ]
  },
  {
   "cell_type": "code",
   "execution_count": 7,
   "metadata": {},
   "outputs": [],
   "source": [
    "import torch.nn as nn\n",
    "import torch.nn.functional as F\n",
    "\n",
    "\n",
    "class classicalNet(nn.Module):\n",
    "    def __init__(self, n_movies, n_users, hidden_d, mu):\n",
    "        super(classicalNet, self).__init__()\n",
    "        self.W1 = torch.rand((hidden_d, n_movies), requires_grad=True)\n",
    "        self.W2 = torch.rand((hidden_d, n_users), requires_grad=True)\n",
    "        self.b1 = torch.rand(n_movies, requires_grad=True)\n",
    "        self.b2 = torch.rand(n_users, requires_grad=True)\n",
    "        # dimension: n_movies\n",
    "        self.mu = mu\n",
    "        \n",
    "    def forward(self, x1, x2):\n",
    "        \"x1: n_movies by batch_dimension\"\n",
    "        \"x2: n_users by batch_dimension\"\n",
    "        \n",
    "        # get movie no.\n",
    "        i = torch.argmax(x1, dim=0)\n",
    "        # get user no.\n",
    "        u = torch.argmax(x2, dim=0)\n",
    "        \n",
    "        x1 = torch.mm(self.W1, x1)\n",
    "        x1 = x1.t()\n",
    "        x2 = torch.mm(self.W2, x2)\n",
    "        \n",
    "        x = torch.zeros(x2.size(1))\n",
    "        for k in range(x2.size(1)):\n",
    "            x[k] = torch.dot(x1[k], x2[:, k]) + self.mu[i[k]] + self.b1[i[k]] + self.b2[u[k]]\n",
    "            \n",
    "        # DO NOT try to rewrap a tensor like using list comprehension, this breaks the computation graph \n",
    "        # and results in grad==None\n",
    "        \n",
    "        return x\n",
    "    \n",
    "    def rmseloss(self, pred, r):\n",
    "        \"pred, ratings: batch_dimension\"\n",
    "\n",
    "        loss = torch.tensor(0.)\n",
    "        count = 0\n",
    "        \n",
    "        # implement MSE loss assuming not all ratings are present in r\n",
    "        for k in range(r.size(0)):\n",
    "            if ~torch.isnan(r[k]):\n",
    "                loss += (pred[k] - r[k])**2\n",
    "                count += 1\n",
    "        \n",
    "        # regularization with lambda=0.0001\n",
    "        loss += 0.0001 * ((self.W1**2).sum() + (self.W2**2).sum() + (self.b1**2).sum() + (self.b2**2).sum())\n",
    "        loss = loss / count\n",
    "        return loss**0.5\n",
    "\n",
    "classical_net = classicalNet(n_movies, n_users, hidden_d, mu)"
   ]
  },
  {
   "cell_type": "code",
   "execution_count": 8,
   "metadata": {},
   "outputs": [],
   "source": [
    "import torch.optim as optim\n",
    "\n",
    "optimizer = optim.Adam([classical_net.W1, classical_net.W2, classical_net.b1, classical_net.b2], lr=0.001)"
   ]
  },
  {
   "cell_type": "markdown",
   "metadata": {},
   "source": [
    "# Prepare train, test, validation dataset and batch generator"
   ]
  },
  {
   "cell_type": "code",
   "execution_count": 9,
   "metadata": {},
   "outputs": [],
   "source": [
    "X = df.iloc[:, 0:2]\n",
    "y = df.iloc[:, 2]\n",
    "\n",
    "from sklearn.model_selection import train_test_split\n",
    "# 70% train, 21% validation, 9% test\n",
    "X_train, X_validation, y_train, y_validation = train_test_split(X, y, test_size=0.3, random_state=42)\n",
    "X_validation, X_test, y_validation, y_test = train_test_split(X_validation, y_validation, test_size=0.3, random_state=41)"
   ]
  },
  {
   "cell_type": "code",
   "execution_count": 11,
   "metadata": {},
   "outputs": [],
   "source": [
    "# generate tensor for SGD\n",
    "def batch_generator(X, y, batch_size):\n",
    "    for i in range(X.shape[0]//batch_size):\n",
    "        batch_input = X.iloc[i*batch_size: i*batch_size + batch_size]\n",
    "        batch_output = y.iloc[i*batch_size: i*batch_size + batch_size]\n",
    "\n",
    "        movie_input = []\n",
    "        user_input = []\n",
    "        rating_output = []\n",
    "        \n",
    "        for _, input_ in batch_input.iterrows():\n",
    "            user_vector = np.zeros(len(user_map))\n",
    "            user_vector[user_map[input_.userId]] = 1.\n",
    "            user_input.append(user_vector)\n",
    "                    \n",
    "            movie_vector = np.zeros(len(movie_map))\n",
    "            movie_vector[movie_map[input_.movieId]] = 1.\n",
    "            movie_input.append(movie_vector)\n",
    "\n",
    "        for _, output in batch_output.iteritems():\n",
    "            rating_output.append(output)\n",
    "        \n",
    "        # make sure torch.float for backprop\n",
    "        movie_input = torch.tensor(movie_input, dtype=torch.float32)\n",
    "        user_input = torch.tensor(user_input, dtype=torch.float32)\n",
    "        # for tensor of dimension, n_movies by batch_no\n",
    "        movie_input = movie_input.t()\n",
    "        user_input = user_input.t()\n",
    "        rating_output = torch.tensor(rating_output, dtype=torch.float32)\n",
    "\n",
    "        yield movie_input, user_input, rating_output"
   ]
  },
  {
   "cell_type": "markdown",
   "metadata": {},
   "source": [
    "# Monitor validation vs training loss over epochs"
   ]
  },
  {
   "cell_type": "code",
   "execution_count": 30,
   "metadata": {},
   "outputs": [],
   "source": [
    "sample_size = 5000\n",
    "X_validation_sample = X_validation.iloc[:sample_size]\n",
    "y_validation_sample = y_validation.iloc[:sample_size]\n",
    "\n",
    "X_training_sample = X_train.iloc[:sample_size]\n",
    "y_training_sample = y_train.iloc[:sample_size]\n",
    "\n",
    "def loss_check(model, X, y, loss_metric='rmse'):\n",
    "    with torch.no_grad():\n",
    "        X_movie, X_user, y_rating = list(batch_generator(X, y, len(X)))[0]\n",
    "        prediction = model(X_movie, X_user)\n",
    "        if loss_metric == 'rmse':\n",
    "            return model.rmseloss(prediction, y_rating).item()\n",
    "        else:\n",
    "            return model.logloss(prediction, y_rating).item()"
   ]
  },
  {
   "cell_type": "code",
   "execution_count": 13,
   "metadata": {},
   "outputs": [
    {
     "name": "stdout",
     "output_type": "stream",
     "text": [
      "[1, 30] average_loss per batch: 25.114790407816567\n",
      "[1, 60] average_loss per batch: 23.50567366282145\n",
      "[1, 90] average_loss per batch: 21.96175855000814\n",
      "[1, 120] average_loss per batch: 20.47427603403727\n",
      "training_loss: 19.187915802001953\n",
      "validation_loss: 19.005403518676758\n",
      "[2, 30] average_loss per batch: 18.52323970794678\n",
      "[2, 60] average_loss per batch: 17.16213747660319\n",
      "[2, 90] average_loss per batch: 15.893471399943033\n",
      "[2, 120] average_loss per batch: 14.706861146291097\n",
      "training_loss: 13.752058029174805\n",
      "validation_loss: 13.580584526062012\n",
      "[3, 30] average_loss per batch: 13.212046400705974\n",
      "[3, 60] average_loss per batch: 12.103752867380779\n",
      "[3, 90] average_loss per batch: 11.090230083465576\n",
      "[3, 120] average_loss per batch: 10.166093603769939\n",
      "training_loss: 9.46794605255127\n",
      "validation_loss: 9.342968940734863\n",
      "[4, 30] average_loss per batch: 9.042851479848226\n",
      "[4, 60] average_loss per batch: 8.172631136576335\n",
      "[4, 90] average_loss per batch: 7.395731703440348\n",
      "[4, 120] average_loss per batch: 6.7128226121266685\n",
      "training_loss: 6.238038539886475\n",
      "validation_loss: 6.180910110473633\n",
      "[5, 30] average_loss per batch: 5.928958368301392\n",
      "[5, 60] average_loss per batch: 5.294421243667602\n",
      "[5, 90] average_loss per batch: 4.750617154439291\n",
      "[5, 120] average_loss per batch: 4.3048410813013716\n",
      "training_loss: 4.0324530601501465\n",
      "validation_loss: 4.042750358581543\n",
      "[6, 30] average_loss per batch: 3.8402501980463666\n",
      "[6, 60] average_loss per batch: 3.423588983217875\n",
      "[6, 90] average_loss per batch: 3.0888810634613035\n",
      "[6, 120] average_loss per batch: 2.8405131737391156\n",
      "training_loss: 2.710123300552368\n",
      "validation_loss: 2.780609369277954\n",
      "[7, 30] average_loss per batch: 2.604587952295939\n",
      "[7, 60] average_loss per batch: 2.3394050359725953\n",
      "[7, 90] average_loss per batch: 2.1502986709276835\n",
      "[7, 120] average_loss per batch: 2.019033098220825\n",
      "training_loss: 1.961545467376709\n",
      "validation_loss: 2.091273784637451\n",
      "[8, 30] average_loss per batch: 1.902934475739797\n",
      "[8, 60] average_loss per batch: 1.7281386176745097\n",
      "[8, 90] average_loss per batch: 1.6281225124994914\n",
      "[8, 120] average_loss per batch: 1.5515883803367614\n",
      "training_loss: 1.52781343460083\n",
      "validation_loss: 1.713446021080017\n",
      "[9, 30] average_loss per batch: 1.4949573675791423\n",
      "[9, 60] average_loss per batch: 1.3754172523816426\n",
      "[9, 90] average_loss per batch: 1.325692093372345\n",
      "[9, 120] average_loss per batch: 1.2725842634836833\n",
      "training_loss: 1.2627569437026978\n",
      "validation_loss: 1.5014877319335938\n",
      "[10, 30] average_loss per batch: 1.2472805539766947\n",
      "[10, 60] average_loss per batch: 1.162659998734792\n",
      "[10, 90] average_loss per batch: 1.1376802961031596\n",
      "[10, 120] average_loss per batch: 1.095873079697291\n",
      "training_loss: 1.090222954750061\n",
      "validation_loss: 1.3795164823532104\n",
      "[11, 30] average_loss per batch: 1.086944729089737\n",
      "[11, 60] average_loss per batch: 1.0244354248046874\n",
      "[11, 90] average_loss per batch: 1.0097455422083537\n",
      "[11, 120] average_loss per batch: 0.974759570757548\n",
      "training_loss: 0.9688646197319031\n",
      "validation_loss: 1.3064560890197754\n",
      "[12, 30] average_loss per batch: 0.9738717635472616\n",
      "[12, 60] average_loss per batch: 0.9253914376099904\n",
      "[12, 90] average_loss per batch: 0.9144598186016083\n",
      "[12, 120] average_loss per batch: 0.8841525455315907\n",
      "training_loss: 0.8763724565505981\n",
      "validation_loss: 1.2604275941848755\n",
      "[13, 30] average_loss per batch: 0.8869976798693339\n",
      "[13, 60] average_loss per batch: 0.8475413262844086\n",
      "[13, 90] average_loss per batch: 0.8380005260308584\n",
      "[13, 120] average_loss per batch: 0.8110353251298269\n",
      "training_loss: 0.8010446429252625\n",
      "validation_loss: 1.2300302982330322\n",
      "[14, 30] average_loss per batch: 0.8155961891015371\n",
      "[14, 60] average_loss per batch: 0.7820571144421895\n",
      "[14, 90] average_loss per batch: 0.7732470671335856\n",
      "[14, 120] average_loss per batch: 0.7487600644429525\n",
      "training_loss: 0.7366729974746704\n",
      "validation_loss: 1.2092517614364624\n",
      "[15, 30] average_loss per batch: 0.7541366000970204\n",
      "[15, 60] average_loss per batch: 0.7246175885200501\n",
      "[15, 90] average_loss per batch: 0.7164374550183614\n",
      "[15, 120] average_loss per batch: 0.6938875675201416\n",
      "training_loss: 0.6798650026321411\n",
      "validation_loss: 1.194780945777893\n",
      "[16, 30] average_loss per batch: 0.6996695637702942\n",
      "[16, 60] average_loss per batch: 0.6730620265007019\n",
      "[16, 90] average_loss per batch: 0.665515947341919\n",
      "[16, 120] average_loss per batch: 0.6445765296618143\n",
      "training_loss: 0.6287167072296143\n",
      "validation_loss: 1.1846938133239746\n",
      "[17, 30] average_loss per batch: 0.650560462474823\n",
      "[17, 60] average_loss per batch: 0.626248162984848\n",
      "[17, 90] average_loss per batch: 0.619299606482188\n",
      "[17, 120] average_loss per batch: 0.5997874597708385\n",
      "training_loss: 0.5821014046669006\n",
      "validation_loss: 1.1778037548065186\n",
      "[18, 30] average_loss per batch: 0.6058561742305756\n",
      "[18, 60] average_loss per batch: 0.5835105359554291\n",
      "[18, 90] average_loss per batch: 0.5770662268002827\n",
      "[18, 120] average_loss per batch: 0.5588944733142853\n",
      "training_loss: 0.5393004417419434\n",
      "validation_loss: 1.1733267307281494\n",
      "[19, 30] average_loss per batch: 0.5649620036284129\n",
      "[19, 60] average_loss per batch: 0.5444132427374522\n",
      "[19, 90] average_loss per batch: 0.5383507192134858\n",
      "[19, 120] average_loss per batch: 0.5214927554130554\n",
      "training_loss: 0.4998243451118469\n",
      "validation_loss: 1.1707075834274292\n",
      "[20, 30] average_loss per batch: 0.5274768739938736\n",
      "[20, 60] average_loss per batch: 0.5086385975281398\n",
      "[20, 90] average_loss per batch: 0.5028353651364644\n",
      "[20, 120] average_loss per batch: 0.4872946431239446\n",
      "training_loss: 0.4633166193962097\n",
      "validation_loss: 1.1695343255996704\n",
      "[21, 30] average_loss per batch: 0.49310599863529203\n",
      "[21, 60] average_loss per batch: 0.47593222161134086\n",
      "[21, 90] average_loss per batch: 0.4702849994103114\n",
      "[21, 120] average_loss per batch: 0.4560705453157425\n",
      "training_loss: 0.4295017421245575\n",
      "validation_loss: 1.169467568397522\n",
      "[22, 30] average_loss per batch: 0.46161474684874215\n",
      "[22, 60] average_loss per batch: 0.44607400000095365\n",
      "[22, 90] average_loss per batch: 0.4405078659454981\n",
      "[22, 120] average_loss per batch: 0.4276175538698832\n",
      "training_loss: 0.3981528580188751\n",
      "validation_loss: 1.170226812362671\n",
      "[23, 30] average_loss per batch: 0.4328025410572688\n",
      "[23, 60] average_loss per batch: 0.4188611894845963\n",
      "[23, 90] average_loss per batch: 0.4133340924978256\n",
      "[23, 120] average_loss per batch: 0.40174323121706645\n",
      "training_loss: 0.36907294392585754\n",
      "validation_loss: 1.1715826988220215\n",
      "Early stopping\n",
      "Finished Training\n"
     ]
    }
   ],
   "source": [
    "def training(n_epoch):\n",
    "    # loop over the dataset multiple times\n",
    "    batch_size = 512\n",
    "    validation_history = []\n",
    "    training_history = []\n",
    "    patience = 5\n",
    "\n",
    "    for epoch in range(n_epoch):\n",
    "\n",
    "        running_loss = 0.0\n",
    "        batch_no = 0\n",
    "        for movie_input, user_input, rating in batch_generator(X_train, y_train, batch_size):\n",
    "\n",
    "            # zero the parameter gradients\n",
    "            optimizer.zero_grad()\n",
    "\n",
    "            # forward + backward + optimize\n",
    "            outputs = classical_net(movie_input, user_input)\n",
    "            loss = classical_net.rmseloss(outputs, rating)\n",
    "            loss.backward()\n",
    "            optimizer.step()\n",
    "\n",
    "            # print statistics\n",
    "            running_loss += loss.item()\n",
    "            if batch_no % 30 == 29:\n",
    "                print('[{}, {}] average_loss per batch: {}'.format(epoch+1, batch_no+1, running_loss/30))\n",
    "                running_loss = 0.0\n",
    "\n",
    "            batch_no += 1\n",
    "\n",
    "        # check training and validation loss after every epoch\n",
    "        training_loss = loss_check(classical_net, X_training_sample, y_training_sample)\n",
    "        print('training_loss: {}'.format(training_loss))\n",
    "        training_history.append(training_loss)\n",
    "        \n",
    "        vali_loss = loss_check(classical_net, X_validation_sample, y_validation_sample)\n",
    "        print('validation_loss: {}'.format(vali_loss))\n",
    "        validation_history.append(vali_loss)\n",
    "        \n",
    "        if len(validation_history) >= patience:\n",
    "            # either validation_loss doesnt improve or model starts to overfit\n",
    "            if abs(validation_history[-1] - validation_history[-patience]) / validation_history[-patience] < 0.001\\\n",
    "                                                        or validation_history[-1] > validation_history[-patience]:\n",
    "                print('Early stopping')\n",
    "                break\n",
    "\n",
    "    print('Finished Training')\n",
    "    return validation_history, training_history\n",
    "\n",
    "n_epoch = 50\n",
    "validation_history, training_history = training(n_epoch)"
   ]
  },
  {
   "cell_type": "code",
   "execution_count": 15,
   "metadata": {},
   "outputs": [
    {
     "data": {
      "image/png": "[encoded data removed]",
      "text/plain": [
       "<Figure size 432x288 with 1 Axes>"
      ]
     },
     "metadata": {
      "needs_background": "light"
     },
     "output_type": "display_data"
    }
   ],
   "source": [
    "import matplotlib.pyplot as plt\n",
    "plt.plot(np.arange(len(validation_history)), validation_history, color='r', label='validation')\n",
    "plt.plot(np.arange(len(training_history)), training_history, color='b', label='training with regularization')\n",
    "plt.legend()\n",
    "plt.show()"
   ]
  },
  {
   "cell_type": "markdown",
   "metadata": {},
   "source": [
    "# Predictions for test data by MFnn"
   ]
  },
  {
   "cell_type": "code",
   "execution_count": 16,
   "metadata": {},
   "outputs": [
    {
     "name": "stdout",
     "output_type": "stream",
     "text": [
      "test_loss: 1.182173728942871\n",
      "prediction rating: [3.5 5.  4.  3.5 3.5]\n",
      "ground truth rating: [4.5 3.5 4.  5.  4. ]\n"
     ]
    }
   ],
   "source": [
    "# lets see how gd our model prediction's are on the test set\n",
    "test_loss = loss_check(classical_net, X_test, y_test)\n",
    "print('test_loss: {}'.format(test_loss))\n",
    "\n",
    "# demo compared to ground truth\n",
    "with torch.no_grad():\n",
    "    X_sample, y_sample = X_test[:5], y_test[:5]\n",
    "    sample_movie, sample_user, rating_truth = list(batch_generator(X_sample, y_sample, len(X_sample)))[0]\n",
    "    # round to nearest 0.5\n",
    "    prediction = classical_net(sample_movie, sample_user).numpy()\n",
    "    prediction = np.round(prediction * 2)/2\n",
    "    print('prediction rating: {}'.format(prediction))\n",
    "    print('ground truth rating: {}'.format(rating_truth.numpy()))"
   ]
  },
  {
   "cell_type": "code",
   "execution_count": 17,
   "metadata": {},
   "outputs": [],
   "source": [
    "# save model\n",
    "PATH = './MFnn.pth'\n",
    "torch.save(classical_net.state_dict(), PATH)"
   ]
  },
  {
   "cell_type": "markdown",
   "metadata": {},
   "source": [
    "# Compare to plain SVD method"
   ]
  },
  {
   "cell_type": "code",
   "execution_count": 18,
   "metadata": {},
   "outputs": [
    {
     "name": "stdout",
     "output_type": "stream",
     "text": [
      "explained_variance ratio for 100 components movie_embedd: 0.6717697007444805\n",
      "explained_variance ratio for 100 components user_embedd: 0.6590705302792939\n",
      "rmseloss on test set by SVD method: 3.5207387628519533\n"
     ]
    }
   ],
   "source": [
    "from sklearn.decomposition import TruncatedSVD\n",
    "# form our movie-user-rating matrix\n",
    "r = np.zeros((n_movies, n_users))\n",
    "for _, row in X_train.iterrows():\n",
    "        r[movie_map[row.movieId], user_map[row.userId]] = y_train[_]\n",
    "\n",
    "# for x = usvT\n",
    "svd = TruncatedSVD(n_components=100, random_state=41)\n",
    "\n",
    "# movie_embedd: (n_movies, 100) which is us, the product of left singular and diagonal matrix\n",
    "movie_embedd = svd.fit_transform(r)\n",
    "print('explained_variance ratio for 100 components movie_embedd: {}'.format(sum(svd.explained_variance_ratio_)))\n",
    "\n",
    "# user_embedd: (n_movies, 100) which is v, the right singular matrix\n",
    "user_embedd = svd.fit_transform(r.T)\n",
    "for k in range(len(svd.singular_values_)):\n",
    "    user_embedd[:, k] /= svd.singular_values_[k]\n",
    "print('explained_variance ratio for 100 components user_embedd: {}'.format(sum(svd.explained_variance_ratio_)))\n",
    "\n",
    "with torch.no_grad():\n",
    "    loss = 0.\n",
    "    for _, sample in X_test.iterrows():\n",
    "        prediction = np.dot(user_embedd[user_map[sample.userId]], movie_embedd[movie_map[sample.movieId]])\n",
    "        loss += (y_test[_] - prediction)**2\n",
    "    print('rmseloss on test set by SVD method: {}'.format((loss/X_test.shape[0])**0.5))"
   ]
  },
  {
   "cell_type": "markdown",
   "metadata": {},
   "source": [
    "Compared to the rmse of nnMF which is around 1.18, it is now proven that nn based GMF do better than plain SVD on sparse dataset. From the earliest adoptation of this practical technique for constructing user and item embeddings who won the Netflix Prize, a large-scale collaborative filtering challenge, they used 'Alternating-Least-Squares with Weighted-λ-Regularization' which is a method based on user embeddings, find the optimal movie embeddings with regularization, the vice versa until convergence. Their performance with hidden dimension of 1000 units of size gave them a RMSE of 0.8985, which is not far from ours, considering we just used the hidden dimension of 100 units, one can expect the result will keep improving if we adopt more hidden dimension of embeddings."
   ]
  },
  {
   "cell_type": "markdown",
   "metadata": {},
   "source": [
    "# Shortcomings for generalized matrix factorization \n",
    "1. It cannot incorporate other source of information like change of taste over time other than user, movie embeddings\n",
    "2. Dot product is the only function to capture user movie interations\n",
    "\n",
    "By Xiangnan He. et al, <a href='https://arxiv.org/pdf/1708.05031.pdf'>Neural Collaborative Filtering</a> in 2017, they proposed the following architecture and claimed to have improved performance, but due to the non-convexity of the objective function of NeuMF, gradient-based optimization methods only find locally-optimal solutions. It is reported that the initialization plays an important role for the convergence and performance of deep learning models. Since NeuMF is an ensemble of GMF and MLP, they propose to initialize NeuMF using the pretrained models of GMF and MLP.\n",
    "<img src='./deep_cl.png' height='700px' width='500px'>"
   ]
  },
  {
   "cell_type": "markdown",
   "metadata": {},
   "source": [
    "# NeuMF machine"
   ]
  },
  {
   "cell_type": "code",
   "execution_count": 53,
   "metadata": {
    "scrolled": false
   },
   "outputs": [
    {
     "data": {
      "text/plain": [
       "<matplotlib.axes._subplots.AxesSubplot at 0x13e78eb70>"
      ]
     },
     "execution_count": 53,
     "metadata": {},
     "output_type": "execute_result"
    },
    {
     "data": {
      "image/png": "[encoded data removed]",
      "text/plain": [
       "<Figure size 432x288 with 1 Axes>"
      ]
     },
     "metadata": {
      "needs_background": "light"
     },
     "output_type": "display_data"
    }
   ],
   "source": [
    "df.rating.value_counts().hist()"
   ]
  },
  {
   "cell_type": "code",
   "execution_count": 84,
   "metadata": {},
   "outputs": [],
   "source": [
    "# weight function for logloss on skewed classes\n",
    "weights = df.rating.value_counts(normalize=True).sort_index().tolist()"
   ]
  },
  {
   "cell_type": "code",
   "execution_count": 85,
   "metadata": {},
   "outputs": [],
   "source": [
    "class NeuMF(nn.Module):\n",
    "    def __init__(self, n_movies, n_users, n_ratings, hidden_d):\n",
    "        super(NeuMF, self).__init__()\n",
    "        # wrapped in nn.parameter, no need to specify requires_grad=True\n",
    "        self.W1 = nn.Parameter(torch.rand((hidden_d, n_movies)))\n",
    "        self.W2 = nn.Parameter(torch.rand((hidden_d, n_users)))\n",
    "        \n",
    "        self.W3 = nn.Parameter(torch.rand((hidden_d, n_movies)))\n",
    "        self.W4 = nn.Parameter(torch.rand((hidden_d, n_users)))\n",
    "\n",
    "        self.MLP1 = nn.Linear(2*hidden_d, hidden_d)\n",
    "        self.MLP2 = nn.Linear(hidden_d, hidden_d)\n",
    "        self.MLP3 = nn.Linear(hidden_d, hidden_d)\n",
    "        \n",
    "        self.MLP4 = nn.Linear(2*hidden_d, n_ratings)\n",
    "        \n",
    "        # hyperparameter as indicated by paper for model ensemble\n",
    "        self.a = nn.Parameter(torch.tensor(0.5))\n",
    "                \n",
    "    def forward(self, x1, x2):\n",
    "        \"x1: n_movies by batch_dimension\"\n",
    "        \"x2: n_users by batch_dimension\"\n",
    "        \n",
    "        x1, x3 = torch.mm(self.W1, x1), torch.mm(self.W3, x1)\n",
    "        x2, x4 = torch.mm(self.W2, x2), torch.mm(self.W4, x2)\n",
    "        \n",
    "        x = x1 * x2\n",
    "        x = x.t()\n",
    "        \n",
    "        x_ = torch.cat((x3, x4), dim=0)\n",
    "        x_ = x_.t()\n",
    "        x_ = F.relu(self.MLP1(x_))\n",
    "        x_ = F.relu(self.MLP2(x_))\n",
    "        x_ = F.relu(self.MLP3(x_))\n",
    "        \n",
    "        x = torch.cat((x * self.a, x_ * (1 - self.a)), dim=1)\n",
    "        x = F.softmax(self.MLP4(x), dim=1)\n",
    "        \n",
    "        \"x: batch_dimension by n_ratings\"\n",
    "        return x\n",
    "    \n",
    "    # prevent non-convexity issues caused by MSE for classification problems\n",
    "    def logloss(self, pred, r):\n",
    "        \"r: a batch of numeric ratings\"\n",
    "\n",
    "        loss = torch.tensor(0.)\n",
    "        count = 0\n",
    "        \n",
    "        for i in range(r.size(0)):\n",
    "            k = int(r[i]/0.5) - 1\n",
    "            # the use of weight_function can approx. the real logloss over the whole training set \n",
    "            loss -= weight_function[k] * torch.log(pred[i, k])\n",
    "        \n",
    "        return loss/r.size(0)\n",
    "\n",
    "n_ratings = len(df.rating.unique())\n",
    "Neu_MF = NeuMF(n_movies, n_users, n_ratings, hidden_d)"
   ]
  },
  {
   "cell_type": "code",
   "execution_count": 86,
   "metadata": {},
   "outputs": [],
   "source": [
    "optimizer = optim.Adam(Neu_MF.parameters(), lr=0.001)"
   ]
  },
  {
   "cell_type": "code",
   "execution_count": 87,
   "metadata": {},
   "outputs": [
    {
     "name": "stdout",
     "output_type": "stream",
     "text": [
      "[1, 30] average_loss per batch: 0.2965769350528717\n",
      "[1, 60] average_loss per batch: 0.2526159346103668\n",
      "[1, 90] average_loss per batch: 0.2498478929201762\n",
      "[1, 120] average_loss per batch: 0.24892480323712032\n",
      "training_loss: 0.24752865731716156\n",
      "validation_loss: 0.24880965054035187\n",
      "[2, 30] average_loss per batch: 0.24661957720915476\n",
      "[2, 60] average_loss per batch: 0.24576505770285925\n",
      "[2, 90] average_loss per batch: 0.24296557158231735\n",
      "[2, 120] average_loss per batch: 0.24053609520196914\n",
      "training_loss: 0.23744423687458038\n",
      "validation_loss: 0.24090836942195892\n",
      "[3, 30] average_loss per batch: 0.23591937869787216\n",
      "[3, 60] average_loss per batch: 0.2326108028491338\n",
      "[3, 90] average_loss per batch: 0.22837004611889522\n",
      "[3, 120] average_loss per batch: 0.2246249164144198\n",
      "training_loss: 0.22037871181964874\n",
      "validation_loss: 0.22960786521434784\n",
      "[4, 30] average_loss per batch: 0.21972653071085613\n",
      "[4, 60] average_loss per batch: 0.21665744384129842\n",
      "[4, 90] average_loss per batch: 0.21323717385530472\n",
      "[4, 120] average_loss per batch: 0.21119261980056764\n",
      "training_loss: 0.2072414755821228\n",
      "validation_loss: 0.224966898560524\n",
      "[5, 30] average_loss per batch: 0.20755203465620678\n",
      "[5, 60] average_loss per batch: 0.20526249458392462\n",
      "[5, 90] average_loss per batch: 0.2023075317343076\n",
      "[5, 120] average_loss per batch: 0.20164116472005844\n",
      "training_loss: 0.19766032695770264\n",
      "validation_loss: 0.22521767020225525\n",
      "[6, 30] average_loss per batch: 0.19839523832003275\n",
      "[6, 60] average_loss per batch: 0.19638691196839014\n",
      "[6, 90] average_loss per batch: 0.19384296536445617\n",
      "[6, 120] average_loss per batch: 0.19381208022435506\n",
      "training_loss: 0.1897924393415451\n",
      "validation_loss: 0.22711177170276642\n",
      "[7, 30] average_loss per batch: 0.19077770312627157\n",
      "[7, 60] average_loss per batch: 0.18898944109678267\n",
      "[7, 90] average_loss per batch: 0.1867584228515625\n",
      "[7, 120] average_loss per batch: 0.18700524866580964\n",
      "training_loss: 0.18300826847553253\n",
      "validation_loss: 0.2296731173992157\n",
      "Early stopping\n",
      "Finished Training\n"
     ]
    }
   ],
   "source": [
    "def training_NeuMF(n_epoch):\n",
    "    # loop over the dataset multiple times\n",
    "    batch_size = 512\n",
    "    validation_history = []\n",
    "    training_history = []\n",
    "    patience = 5\n",
    "\n",
    "    for epoch in range(n_epoch):\n",
    "\n",
    "        running_loss = 0.0\n",
    "        batch_no = 0\n",
    "        for movie_input, user_input, rating in batch_generator(X_train, y_train, batch_size):\n",
    "\n",
    "            # zero the parameter gradients\n",
    "            optimizer.zero_grad()\n",
    "\n",
    "            # forward + backward + optimize\n",
    "            outputs = Neu_MF(movie_input, user_input)\n",
    "            loss = Neu_MF.logloss(outputs, rating)\n",
    "            loss.backward()\n",
    "            optimizer.step()\n",
    "\n",
    "            # print statistics\n",
    "            running_loss += loss.item()\n",
    "            if batch_no % 30 == 29:\n",
    "                print('[{}, {}] average_loss per batch: {}'.format(epoch+1, batch_no+1, running_loss/30))\n",
    "                running_loss = 0.0\n",
    "\n",
    "            batch_no += 1\n",
    "\n",
    "        # check training and validation loss after every epoch\n",
    "        training_loss = loss_check(Neu_MF, X_training_sample, y_training_sample, loss_metric='logloss')\n",
    "        print('training_loss: {}'.format(training_loss))\n",
    "        training_history.append(training_loss)\n",
    "        \n",
    "        vali_loss = loss_check(Neu_MF, X_validation_sample, y_validation_sample, loss_metric='logloss')\n",
    "        print('validation_loss: {}'.format(vali_loss))\n",
    "        validation_history.append(vali_loss)\n",
    "        \n",
    "        if len(validation_history) >= patience:\n",
    "            # either validation_loss doesnt improve or model starts to overfit\n",
    "            if abs(validation_history[-1] - validation_history[-patience]) / validation_history[-patience] < 0.001\\\n",
    "                                                        or validation_history[-1] > validation_history[-patience]:\n",
    "                print('Early stopping')\n",
    "                break\n",
    "\n",
    "    print('Finished Training')\n",
    "    return validation_history, training_history\n",
    "\n",
    "n_epoch = 50\n",
    "validation_history, training_history = training_NeuMF(n_epoch)"
   ]
  },
  {
   "cell_type": "code",
   "execution_count": 88,
   "metadata": {},
   "outputs": [
    {
     "data": {
      "image/png": "[encoded data removed]",
      "text/plain": [
       "<Figure size 432x288 with 1 Axes>"
      ]
     },
     "metadata": {
      "needs_background": "light"
     },
     "output_type": "display_data"
    }
   ],
   "source": [
    "import matplotlib.pyplot as plt\n",
    "plt.plot(np.arange(len(validation_history)), validation_history, color='r', label='validation')\n",
    "plt.plot(np.arange(len(training_history)), training_history, color='b', label='training')\n",
    "plt.legend()\n",
    "plt.show()"
   ]
  },
  {
   "cell_type": "code",
   "execution_count": 89,
   "metadata": {},
   "outputs": [],
   "source": [
    "# save model\n",
    "PATH = './NeuMF.pth'\n",
    "torch.save(Neu_MF.state_dict(), PATH)"
   ]
  },
  {
   "cell_type": "markdown",
   "metadata": {},
   "source": [
    "# Improved predictions for test data by NeuMF"
   ]
  },
  {
   "cell_type": "code",
   "execution_count": 92,
   "metadata": {
    "scrolled": true
   },
   "outputs": [
    {
     "name": "stdout",
     "output_type": "stream",
     "text": [
      "test logloss: 0.22487635910511017\n",
      "rmse of prediction against ground truth: 1.0285912696499033\n"
     ]
    }
   ],
   "source": [
    "test_loss = loss_check(Neu_MF, X_test, y_test, loss_metric='logloss')\n",
    "print('test logloss: {}'.format(test_loss))\n",
    "\n",
    "# demo compared to ground truth\n",
    "with torch.no_grad():\n",
    "    X_sample, y_sample = X_test[:1000], y_test[:1000]\n",
    "    sample_movie, sample_user, rating_truth = list(batch_generator(X_sample, y_sample, len(X_sample)))[0]\n",
    "    prediction = Neu_MF(sample_movie, sample_user).numpy()\n",
    "    prediction = (np.argmax(prediction, axis=1) + 1) * 0.5\n",
    "    rmse = np.mean((prediction - rating_truth.numpy())**2)**0.5\n",
    "    print('rmse of prediction against ground truth: {}'.format(rmse))"
   ]
  },
  {
   "cell_type": "markdown",
   "metadata": {},
   "source": [
    "For NeuMF, we did not explicitly tell nn the mean movie ratings nor any handcrafted features. Nevertheless, it did a better job on test predictions, 1.03 < 1.18 which was the rmse previously for MFnn model"
   ]
  },
  {
   "cell_type": "code",
   "execution_count": null,
   "metadata": {},
   "outputs": [],
   "source": []
  }
 ],
 "metadata": {
  "kernelspec": {
   "display_name": "Python 3",
   "language": "python",
   "name": "python3"
  },
  "language_info": {
   "codemirror_mode": {
    "name": "ipython",
    "version": 3
   },
   "file_extension": ".py",
   "mimetype": "text/x-python",
   "name": "python",
   "nbconvert_exporter": "python",
   "pygments_lexer": "ipython3",
   "version": "3.7.3"
  }
 },
 "nbformat": 4,
 "nbformat_minor": 2
}
