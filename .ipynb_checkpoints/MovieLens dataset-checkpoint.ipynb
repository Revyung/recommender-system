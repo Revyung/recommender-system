{
 "cells": [
  {
   "cell_type": "code",
   "execution_count": 1,
   "metadata": {
    "colab": {
     "base_uri": "https://localhost:8080/",
     "height": 204
    },
    "colab_type": "code",
    "executionInfo": {
     "elapsed": 1959,
     "status": "ok",
     "timestamp": 1581866987234,
     "user": {
      "displayName": "Reverie Yung",
      "photoUrl": "https://lh3.googleusercontent.com/a-/AAuE7mDse36DSuXrIsAb88zhKhOHmqPmc7gYxaCgWYBlgOE=s64",
      "userId": "11337003563921778338"
     },
     "user_tz": -480
    },
    "id": "LyG5GNjwx0Kg",
    "outputId": "7bed13cc-5ded-47d6-b7be-153bb95ced6c"
   },
   "outputs": [
    {
     "name": "stdout",
     "output_type": "stream",
     "text": [
      "Warning: Failed to set locale category LC_NUMERIC to en_HK.\n",
      "Warning: Failed to set locale category LC_TIME to en_HK.\n",
      "Warning: Failed to set locale category LC_COLLATE to en_HK.\n",
      "Warning: Failed to set locale category LC_MONETARY to en_HK.\n",
      "Warning: Failed to set locale category LC_MESSAGES to en_HK.\n",
      "--2020-02-17 20:12:50--  http://files.grouplens.org/datasets/movielens/ml-latest-small.zip\n",
      "Resolving files.grouplens.org (files.grouplens.org)... 128.101.65.152\n",
      "Connecting to files.grouplens.org (files.grouplens.org)|128.101.65.152|:80... connected.\n",
      "HTTP request sent, awaiting response... 200 OK\n",
      "Length: 978202 (955K) [application/zip]\n",
      "Saving to: ‘ml-latest-small.zip’\n",
      "\n",
      "ml-latest-small.zip 100%[===================>] 955.28K   759KB/s    in 1.3s    \n",
      "\n",
      "2020-02-17 20:12:52 (759 KB/s) - ‘ml-latest-small.zip’ saved [978202/978202]\n",
      "\n"
     ]
    }
   ],
   "source": [
    "!wget http://files.grouplens.org/datasets/movielens/ml-latest-small.zip"
   ]
  },
  {
   "cell_type": "code",
   "execution_count": 2,
   "metadata": {
    "colab": {
     "base_uri": "https://localhost:8080/",
     "height": 136
    },
    "colab_type": "code",
    "executionInfo": {
     "elapsed": 1763,
     "status": "ok",
     "timestamp": 1581866990747,
     "user": {
      "displayName": "Reverie Yung",
      "photoUrl": "https://lh3.googleusercontent.com/a-/AAuE7mDse36DSuXrIsAb88zhKhOHmqPmc7gYxaCgWYBlgOE=s64",
      "userId": "11337003563921778338"
     },
     "user_tz": -480
    },
    "id": "cuKqYhXbyICh",
    "outputId": "95bf4b14-4fb4-4cc1-9599-fce307872904"
   },
   "outputs": [
    {
     "name": "stdout",
     "output_type": "stream",
     "text": [
      "Archive:  ml-latest-small.zip\r\n",
      "   creating: ml-latest-small/\r\n",
      "  inflating: ml-latest-small/links.csv  \r\n",
      "  inflating: ml-latest-small/tags.csv  \r\n",
      "  inflating: ml-latest-small/ratings.csv  \r\n",
      "  inflating: ml-latest-small/README.txt  \r\n",
      "  inflating: ml-latest-small/movies.csv  \r\n"
     ]
    }
   ],
   "source": [
    "!unzip ml-latest-small.zip"
   ]
  },
  {
   "cell_type": "code",
   "execution_count": 4,
   "metadata": {
    "colab": {
     "base_uri": "https://localhost:8080/",
     "height": 765
    },
    "colab_type": "code",
    "executionInfo": {
     "elapsed": 642,
     "status": "ok",
     "timestamp": 1581866993333,
     "user": {
      "displayName": "Reverie Yung",
      "photoUrl": "https://lh3.googleusercontent.com/a-/AAuE7mDse36DSuXrIsAb88zhKhOHmqPmc7gYxaCgWYBlgOE=s64",
      "userId": "11337003563921778338"
     },
     "user_tz": -480
    },
    "id": "t1sHY1tu0DLX",
    "outputId": "f3fbcdd8-b2f7-48f2-accd-5c8cd885641c"
   },
   "outputs": [
    {
     "data": {
      "text/html": [
       "<div>\n",
       "<style scoped>\n",
       "    .dataframe tbody tr th:only-of-type {\n",
       "        vertical-align: middle;\n",
       "    }\n",
       "\n",
       "    .dataframe tbody tr th {\n",
       "        vertical-align: top;\n",
       "    }\n",
       "\n",
       "    .dataframe thead th {\n",
       "        text-align: right;\n",
       "    }\n",
       "</style>\n",
       "<table border=\"1\" class=\"dataframe\">\n",
       "  <thead>\n",
       "    <tr style=\"text-align: right;\">\n",
       "      <th></th>\n",
       "      <th>movieId</th>\n",
       "      <th>imdbId</th>\n",
       "      <th>tmdbId</th>\n",
       "    </tr>\n",
       "  </thead>\n",
       "  <tbody>\n",
       "    <tr>\n",
       "      <th>0</th>\n",
       "      <td>1</td>\n",
       "      <td>114709</td>\n",
       "      <td>862.0</td>\n",
       "    </tr>\n",
       "    <tr>\n",
       "      <th>1</th>\n",
       "      <td>2</td>\n",
       "      <td>113497</td>\n",
       "      <td>8844.0</td>\n",
       "    </tr>\n",
       "    <tr>\n",
       "      <th>2</th>\n",
       "      <td>3</td>\n",
       "      <td>113228</td>\n",
       "      <td>15602.0</td>\n",
       "    </tr>\n",
       "    <tr>\n",
       "      <th>3</th>\n",
       "      <td>4</td>\n",
       "      <td>114885</td>\n",
       "      <td>31357.0</td>\n",
       "    </tr>\n",
       "    <tr>\n",
       "      <th>4</th>\n",
       "      <td>5</td>\n",
       "      <td>113041</td>\n",
       "      <td>11862.0</td>\n",
       "    </tr>\n",
       "  </tbody>\n",
       "</table>\n",
       "</div>"
      ],
      "text/plain": [
       "   movieId  imdbId   tmdbId\n",
       "0        1  114709    862.0\n",
       "1        2  113497   8844.0\n",
       "2        3  113228  15602.0\n",
       "3        4  114885  31357.0\n",
       "4        5  113041  11862.0"
      ]
     },
     "metadata": {
      "tags": []
     },
     "output_type": "display_data"
    },
    {
     "data": {
      "text/html": [
       "<div>\n",
       "<style scoped>\n",
       "    .dataframe tbody tr th:only-of-type {\n",
       "        vertical-align: middle;\n",
       "    }\n",
       "\n",
       "    .dataframe tbody tr th {\n",
       "        vertical-align: top;\n",
       "    }\n",
       "\n",
       "    .dataframe thead th {\n",
       "        text-align: right;\n",
       "    }\n",
       "</style>\n",
       "<table border=\"1\" class=\"dataframe\">\n",
       "  <thead>\n",
       "    <tr style=\"text-align: right;\">\n",
       "      <th></th>\n",
       "      <th>userId</th>\n",
       "      <th>movieId</th>\n",
       "      <th>tag</th>\n",
       "      <th>timestamp</th>\n",
       "    </tr>\n",
       "  </thead>\n",
       "  <tbody>\n",
       "    <tr>\n",
       "      <th>0</th>\n",
       "      <td>2</td>\n",
       "      <td>60756</td>\n",
       "      <td>funny</td>\n",
       "      <td>1445714994</td>\n",
       "    </tr>\n",
       "    <tr>\n",
       "      <th>1</th>\n",
       "      <td>2</td>\n",
       "      <td>60756</td>\n",
       "      <td>Highly quotable</td>\n",
       "      <td>1445714996</td>\n",
       "    </tr>\n",
       "    <tr>\n",
       "      <th>2</th>\n",
       "      <td>2</td>\n",
       "      <td>60756</td>\n",
       "      <td>will ferrell</td>\n",
       "      <td>1445714992</td>\n",
       "    </tr>\n",
       "    <tr>\n",
       "      <th>3</th>\n",
       "      <td>2</td>\n",
       "      <td>89774</td>\n",
       "      <td>Boxing story</td>\n",
       "      <td>1445715207</td>\n",
       "    </tr>\n",
       "    <tr>\n",
       "      <th>4</th>\n",
       "      <td>2</td>\n",
       "      <td>89774</td>\n",
       "      <td>MMA</td>\n",
       "      <td>1445715200</td>\n",
       "    </tr>\n",
       "  </tbody>\n",
       "</table>\n",
       "</div>"
      ],
      "text/plain": [
       "   userId  movieId              tag   timestamp\n",
       "0       2    60756            funny  1445714994\n",
       "1       2    60756  Highly quotable  1445714996\n",
       "2       2    60756     will ferrell  1445714992\n",
       "3       2    89774     Boxing story  1445715207\n",
       "4       2    89774              MMA  1445715200"
      ]
     },
     "metadata": {
      "tags": []
     },
     "output_type": "display_data"
    },
    {
     "data": {
      "text/html": [
       "<div>\n",
       "<style scoped>\n",
       "    .dataframe tbody tr th:only-of-type {\n",
       "        vertical-align: middle;\n",
       "    }\n",
       "\n",
       "    .dataframe tbody tr th {\n",
       "        vertical-align: top;\n",
       "    }\n",
       "\n",
       "    .dataframe thead th {\n",
       "        text-align: right;\n",
       "    }\n",
       "</style>\n",
       "<table border=\"1\" class=\"dataframe\">\n",
       "  <thead>\n",
       "    <tr style=\"text-align: right;\">\n",
       "      <th></th>\n",
       "      <th>userId</th>\n",
       "      <th>movieId</th>\n",
       "      <th>rating</th>\n",
       "      <th>timestamp</th>\n",
       "    </tr>\n",
       "  </thead>\n",
       "  <tbody>\n",
       "    <tr>\n",
       "      <th>0</th>\n",
       "      <td>1</td>\n",
       "      <td>1</td>\n",
       "      <td>4.0</td>\n",
       "      <td>964982703</td>\n",
       "    </tr>\n",
       "    <tr>\n",
       "      <th>1</th>\n",
       "      <td>1</td>\n",
       "      <td>3</td>\n",
       "      <td>4.0</td>\n",
       "      <td>964981247</td>\n",
       "    </tr>\n",
       "    <tr>\n",
       "      <th>2</th>\n",
       "      <td>1</td>\n",
       "      <td>6</td>\n",
       "      <td>4.0</td>\n",
       "      <td>964982224</td>\n",
       "    </tr>\n",
       "    <tr>\n",
       "      <th>3</th>\n",
       "      <td>1</td>\n",
       "      <td>47</td>\n",
       "      <td>5.0</td>\n",
       "      <td>964983815</td>\n",
       "    </tr>\n",
       "    <tr>\n",
       "      <th>4</th>\n",
       "      <td>1</td>\n",
       "      <td>50</td>\n",
       "      <td>5.0</td>\n",
       "      <td>964982931</td>\n",
       "    </tr>\n",
       "  </tbody>\n",
       "</table>\n",
       "</div>"
      ],
      "text/plain": [
       "   userId  movieId  rating  timestamp\n",
       "0       1        1     4.0  964982703\n",
       "1       1        3     4.0  964981247\n",
       "2       1        6     4.0  964982224\n",
       "3       1       47     5.0  964983815\n",
       "4       1       50     5.0  964982931"
      ]
     },
     "metadata": {
      "tags": []
     },
     "output_type": "display_data"
    },
    {
     "data": {
      "text/html": [
       "<div>\n",
       "<style scoped>\n",
       "    .dataframe tbody tr th:only-of-type {\n",
       "        vertical-align: middle;\n",
       "    }\n",
       "\n",
       "    .dataframe tbody tr th {\n",
       "        vertical-align: top;\n",
       "    }\n",
       "\n",
       "    .dataframe thead th {\n",
       "        text-align: right;\n",
       "    }\n",
       "</style>\n",
       "<table border=\"1\" class=\"dataframe\">\n",
       "  <thead>\n",
       "    <tr style=\"text-align: right;\">\n",
       "      <th></th>\n",
       "      <th>movieId</th>\n",
       "      <th>title</th>\n",
       "      <th>genres</th>\n",
       "    </tr>\n",
       "  </thead>\n",
       "  <tbody>\n",
       "    <tr>\n",
       "      <th>0</th>\n",
       "      <td>1</td>\n",
       "      <td>Toy Story (1995)</td>\n",
       "      <td>Adventure|Animation|Children|Comedy|Fantasy</td>\n",
       "    </tr>\n",
       "    <tr>\n",
       "      <th>1</th>\n",
       "      <td>2</td>\n",
       "      <td>Jumanji (1995)</td>\n",
       "      <td>Adventure|Children|Fantasy</td>\n",
       "    </tr>\n",
       "    <tr>\n",
       "      <th>2</th>\n",
       "      <td>3</td>\n",
       "      <td>Grumpier Old Men (1995)</td>\n",
       "      <td>Comedy|Romance</td>\n",
       "    </tr>\n",
       "    <tr>\n",
       "      <th>3</th>\n",
       "      <td>4</td>\n",
       "      <td>Waiting to Exhale (1995)</td>\n",
       "      <td>Comedy|Drama|Romance</td>\n",
       "    </tr>\n",
       "    <tr>\n",
       "      <th>4</th>\n",
       "      <td>5</td>\n",
       "      <td>Father of the Bride Part II (1995)</td>\n",
       "      <td>Comedy</td>\n",
       "    </tr>\n",
       "  </tbody>\n",
       "</table>\n",
       "</div>"
      ],
      "text/plain": [
       "   movieId  ...                                       genres\n",
       "0        1  ...  Adventure|Animation|Children|Comedy|Fantasy\n",
       "1        2  ...                   Adventure|Children|Fantasy\n",
       "2        3  ...                               Comedy|Romance\n",
       "3        4  ...                         Comedy|Drama|Romance\n",
       "4        5  ...                                       Comedy\n",
       "\n",
       "[5 rows x 3 columns]"
      ]
     },
     "execution_count": 4,
     "metadata": {
      "tags": []
     },
     "output_type": "execute_result"
    }
   ],
   "source": [
    "import pandas as pd\n",
    "from IPython.display import display\n",
    "\n",
    "download_dir = './ml-latest-small'\n",
    "links = pd.read_csv(download_dir + '/links.csv')\n",
    "display(links.head())\n",
    "tag = pd.read_csv(download_dir + '/tags.csv')\n",
    "display(tag.head())\n",
    "ratings = pd.read_csv(download_dir + '/ratings.csv')\n",
    "display(ratings.head())\n",
    "movies = pd.read_csv(download_dir + '/movies.csv')\n",
    "movies.head()"
   ]
  },
  {
   "cell_type": "markdown",
   "metadata": {
    "colab_type": "text",
    "id": "jSdABIF597aK"
   },
   "source": [
    "For this dataset, the movies are already clustered into genres, and the time of ratings are given. Both are useful information, the former can give a direction to building the movie embeddings, the latter can tell us how the user profile has changed over years. Therefore, to take into account of these factors, we assume rating is a function of user embedding (numeric representation of user profile), time, movie embedding and genres. To build a baseline model, we try to incorporate these ideas into the architecture."
   ]
  },
  {
   "cell_type": "code",
   "execution_count": 5,
   "metadata": {
    "colab": {
     "base_uri": "https://localhost:8080/",
     "height": 51
    },
    "colab_type": "code",
    "executionInfo": {
     "elapsed": 496,
     "status": "ok",
     "timestamp": 1581866998153,
     "user": {
      "displayName": "Reverie Yung",
      "photoUrl": "https://lh3.googleusercontent.com/a-/AAuE7mDse36DSuXrIsAb88zhKhOHmqPmc7gYxaCgWYBlgOE=s64",
      "userId": "11337003563921778338"
     },
     "user_tz": -480
    },
    "id": "Zn1pQ4fQ3rCy",
    "outputId": "194ba993-74d2-4c0e-ce2d-c19e71b90260"
   },
   "outputs": [
    {
     "data": {
      "text/plain": [
       "False    100836\n",
       "Name: rating, dtype: int64"
      ]
     },
     "execution_count": 5,
     "metadata": {
      "tags": []
     },
     "output_type": "execute_result"
    }
   ],
   "source": [
    "# check if any user didnt give a rating\n",
    "ratings.rating.isnull().value_counts()"
   ]
  },
  {
   "cell_type": "code",
   "execution_count": 6,
   "metadata": {
    "colab": {
     "base_uri": "https://localhost:8080/",
     "height": 204
    },
    "colab_type": "code",
    "executionInfo": {
     "elapsed": 648,
     "status": "ok",
     "timestamp": 1581867002039,
     "user": {
      "displayName": "Reverie Yung",
      "photoUrl": "https://lh3.googleusercontent.com/a-/AAuE7mDse36DSuXrIsAb88zhKhOHmqPmc7gYxaCgWYBlgOE=s64",
      "userId": "11337003563921778338"
     },
     "user_tz": -480
    },
    "id": "8mv00hb190xY",
    "outputId": "8e325b82-c0ee-4efd-89de-81de0cb980bb"
   },
   "outputs": [
    {
     "data": {
      "text/html": [
       "<div>\n",
       "<style scoped>\n",
       "    .dataframe tbody tr th:only-of-type {\n",
       "        vertical-align: middle;\n",
       "    }\n",
       "\n",
       "    .dataframe tbody tr th {\n",
       "        vertical-align: top;\n",
       "    }\n",
       "\n",
       "    .dataframe thead th {\n",
       "        text-align: right;\n",
       "    }\n",
       "</style>\n",
       "<table border=\"1\" class=\"dataframe\">\n",
       "  <thead>\n",
       "    <tr style=\"text-align: right;\">\n",
       "      <th></th>\n",
       "      <th>userId</th>\n",
       "      <th>movieId</th>\n",
       "      <th>rating</th>\n",
       "      <th>timestamp</th>\n",
       "      <th>title</th>\n",
       "      <th>genres</th>\n",
       "    </tr>\n",
       "  </thead>\n",
       "  <tbody>\n",
       "    <tr>\n",
       "      <th>0</th>\n",
       "      <td>1</td>\n",
       "      <td>1</td>\n",
       "      <td>4.0</td>\n",
       "      <td>964982703</td>\n",
       "      <td>Toy Story (1995)</td>\n",
       "      <td>Adventure|Animation|Children|Comedy|Fantasy</td>\n",
       "    </tr>\n",
       "    <tr>\n",
       "      <th>1</th>\n",
       "      <td>1</td>\n",
       "      <td>3</td>\n",
       "      <td>4.0</td>\n",
       "      <td>964981247</td>\n",
       "      <td>Grumpier Old Men (1995)</td>\n",
       "      <td>Comedy|Romance</td>\n",
       "    </tr>\n",
       "    <tr>\n",
       "      <th>2</th>\n",
       "      <td>1</td>\n",
       "      <td>6</td>\n",
       "      <td>4.0</td>\n",
       "      <td>964982224</td>\n",
       "      <td>Heat (1995)</td>\n",
       "      <td>Action|Crime|Thriller</td>\n",
       "    </tr>\n",
       "    <tr>\n",
       "      <th>3</th>\n",
       "      <td>1</td>\n",
       "      <td>47</td>\n",
       "      <td>5.0</td>\n",
       "      <td>964983815</td>\n",
       "      <td>Seven (a.k.a. Se7en) (1995)</td>\n",
       "      <td>Mystery|Thriller</td>\n",
       "    </tr>\n",
       "    <tr>\n",
       "      <th>4</th>\n",
       "      <td>1</td>\n",
       "      <td>50</td>\n",
       "      <td>5.0</td>\n",
       "      <td>964982931</td>\n",
       "      <td>Usual Suspects, The (1995)</td>\n",
       "      <td>Crime|Mystery|Thriller</td>\n",
       "    </tr>\n",
       "  </tbody>\n",
       "</table>\n",
       "</div>"
      ],
      "text/plain": [
       "   userId  ...                                       genres\n",
       "0       1  ...  Adventure|Animation|Children|Comedy|Fantasy\n",
       "1       1  ...                               Comedy|Romance\n",
       "2       1  ...                        Action|Crime|Thriller\n",
       "3       1  ...                             Mystery|Thriller\n",
       "4       1  ...                       Crime|Mystery|Thriller\n",
       "\n",
       "[5 rows x 6 columns]"
      ]
     },
     "execution_count": 6,
     "metadata": {
      "tags": []
     },
     "output_type": "execute_result"
    }
   ],
   "source": [
    "# left join genres onto ratings table\n",
    "df = ratings.join(movies.set_index('movieId'), on='movieId')\n",
    "df.head()"
   ]
  },
  {
   "cell_type": "code",
   "execution_count": 7,
   "metadata": {
    "colab": {
     "base_uri": "https://localhost:8080/",
     "height": 204
    },
    "colab_type": "code",
    "executionInfo": {
     "elapsed": 920,
     "status": "ok",
     "timestamp": 1581867006027,
     "user": {
      "displayName": "Reverie Yung",
      "photoUrl": "https://lh3.googleusercontent.com/a-/AAuE7mDse36DSuXrIsAb88zhKhOHmqPmc7gYxaCgWYBlgOE=s64",
      "userId": "11337003563921778338"
     },
     "user_tz": -480
    },
    "id": "t-Ru8LOdC_oO",
    "outputId": "83ea4be2-a5d0-45d9-fb2a-baae6b5a0c8f"
   },
   "outputs": [
    {
     "data": {
      "text/html": [
       "<div>\n",
       "<style scoped>\n",
       "    .dataframe tbody tr th:only-of-type {\n",
       "        vertical-align: middle;\n",
       "    }\n",
       "\n",
       "    .dataframe tbody tr th {\n",
       "        vertical-align: top;\n",
       "    }\n",
       "\n",
       "    .dataframe thead th {\n",
       "        text-align: right;\n",
       "    }\n",
       "</style>\n",
       "<table border=\"1\" class=\"dataframe\">\n",
       "  <thead>\n",
       "    <tr style=\"text-align: right;\">\n",
       "      <th></th>\n",
       "      <th>userId</th>\n",
       "      <th>movieId</th>\n",
       "      <th>rating</th>\n",
       "      <th>timestamp</th>\n",
       "      <th>title</th>\n",
       "      <th>genres</th>\n",
       "    </tr>\n",
       "  </thead>\n",
       "  <tbody>\n",
       "    <tr>\n",
       "      <th>0</th>\n",
       "      <td>1</td>\n",
       "      <td>1</td>\n",
       "      <td>4.0</td>\n",
       "      <td>2000</td>\n",
       "      <td>Toy Story (1995)</td>\n",
       "      <td>Adventure|Animation|Children|Comedy|Fantasy</td>\n",
       "    </tr>\n",
       "    <tr>\n",
       "      <th>1</th>\n",
       "      <td>1</td>\n",
       "      <td>3</td>\n",
       "      <td>4.0</td>\n",
       "      <td>2000</td>\n",
       "      <td>Grumpier Old Men (1995)</td>\n",
       "      <td>Comedy|Romance</td>\n",
       "    </tr>\n",
       "    <tr>\n",
       "      <th>2</th>\n",
       "      <td>1</td>\n",
       "      <td>6</td>\n",
       "      <td>4.0</td>\n",
       "      <td>2000</td>\n",
       "      <td>Heat (1995)</td>\n",
       "      <td>Action|Crime|Thriller</td>\n",
       "    </tr>\n",
       "    <tr>\n",
       "      <th>3</th>\n",
       "      <td>1</td>\n",
       "      <td>47</td>\n",
       "      <td>5.0</td>\n",
       "      <td>2000</td>\n",
       "      <td>Seven (a.k.a. Se7en) (1995)</td>\n",
       "      <td>Mystery|Thriller</td>\n",
       "    </tr>\n",
       "    <tr>\n",
       "      <th>4</th>\n",
       "      <td>1</td>\n",
       "      <td>50</td>\n",
       "      <td>5.0</td>\n",
       "      <td>2000</td>\n",
       "      <td>Usual Suspects, The (1995)</td>\n",
       "      <td>Crime|Mystery|Thriller</td>\n",
       "    </tr>\n",
       "  </tbody>\n",
       "</table>\n",
       "</div>"
      ],
      "text/plain": [
       "   userId  ...                                       genres\n",
       "0       1  ...  Adventure|Animation|Children|Comedy|Fantasy\n",
       "1       1  ...                               Comedy|Romance\n",
       "2       1  ...                        Action|Crime|Thriller\n",
       "3       1  ...                             Mystery|Thriller\n",
       "4       1  ...                       Crime|Mystery|Thriller\n",
       "\n",
       "[5 rows x 6 columns]"
      ]
     },
     "execution_count": 7,
     "metadata": {
      "tags": []
     },
     "output_type": "execute_result"
    }
   ],
   "source": [
    "# turn timestamp from seconds to year\n",
    "change_to_year = lambda x: pd.Timestamp(x, unit='s').year\n",
    "df.timestamp = df.timestamp.apply(change_to_year)\n",
    "df.head()"
   ]
  },
  {
   "cell_type": "code",
   "execution_count": 8,
   "metadata": {
    "colab": {
     "base_uri": "https://localhost:8080/",
     "height": 34
    },
    "colab_type": "code",
    "executionInfo": {
     "elapsed": 634,
     "status": "ok",
     "timestamp": 1581867009104,
     "user": {
      "displayName": "Reverie Yung",
      "photoUrl": "https://lh3.googleusercontent.com/a-/AAuE7mDse36DSuXrIsAb88zhKhOHmqPmc7gYxaCgWYBlgOE=s64",
      "userId": "11337003563921778338"
     },
     "user_tz": -480
    },
    "id": "Hc5mZqnuFJeV",
    "outputId": "d189b600-d732-4fcc-991b-ca9706401aec"
   },
   "outputs": [
    {
     "name": "stdout",
     "output_type": "stream",
     "text": [
      "unique genres: 20\n"
     ]
    }
   ],
   "source": [
    "# turn genres into vector representation\n",
    "genres_list = df.genres.tolist()\n",
    "genres = []\n",
    "\n",
    "for genre in genres_list:\n",
    "  genres.extend(genre.split('|'))\n",
    "\n",
    "genres = set(genres)\n",
    "print('unique genres: {}'.format(len(genres)))"
   ]
  },
  {
   "cell_type": "code",
   "execution_count": 0,
   "metadata": {
    "colab": {},
    "colab_type": "code",
    "id": "SvsD9Rg6Ftud"
   },
   "outputs": [],
   "source": [
    "# to numerically encode features and create mapping for them\n",
    "genres_map = {}\n",
    "for i, genre in enumerate(genres):\n",
    "  genres_map[genre] = i\n",
    "\n",
    "year_map = {}\n",
    "year_set = set(df.timestamp.tolist())\n",
    "for i, year in enumerate(year_set):\n",
    "  year_map[year] = i\n",
    "\n",
    "userId_map = {}\n",
    "userId_set = set(df.userId.tolist())\n",
    "for i, userId in enumerate(userId_set):\n",
    "  userId_map[userId] = i\n",
    "\n",
    "movieId_map = {}\n",
    "movieId_set = set(df.movieId.tolist())\n",
    "for i, movieId in enumerate(movieId_set):\n",
    "  movieId_map[movieId] = i\n",
    "\n",
    "rating_map = {}\n",
    "rating_set = set(df.rating.tolist())\n",
    "for i, rating in enumerate(rating_set):\n",
    "  rating_map[rating] = i"
   ]
  },
  {
   "cell_type": "code",
   "execution_count": 73,
   "metadata": {
    "colab": {
     "base_uri": "https://localhost:8080/",
     "height": 34
    },
    "colab_type": "code",
    "executionInfo": {
     "elapsed": 557,
     "status": "ok",
     "timestamp": 1581878065418,
     "user": {
      "displayName": "Reverie Yung",
      "photoUrl": "https://lh3.googleusercontent.com/a-/AAuE7mDse36DSuXrIsAb88zhKhOHmqPmc7gYxaCgWYBlgOE=s64",
      "userId": "11337003563921778338"
     },
     "user_tz": -480
    },
    "id": "vtkIFskYprsB",
    "outputId": "312ba994-95db-4087-da7b-5462c35efb6b"
   },
   "outputs": [
    {
     "name": "stdout",
     "output_type": "stream",
     "text": [
      "10377 10\n"
     ]
    }
   ],
   "source": [
    "# before defining our model, check the tensor dimensions\n",
    "input_d = len(df.userId.unique()) + len(df.movieId.unique()) + len(genres) + len(year_set)\n",
    "hidden_layer1_d = 500\n",
    "output_d = len(df.rating.unique())\n",
    "\n",
    "print(input_d, output_d)"
   ]
  },
  {
   "cell_type": "code",
   "execution_count": 0,
   "metadata": {
    "colab": {},
    "colab_type": "code",
    "id": "pXXQQGkmo_p_"
   },
   "outputs": [],
   "source": [
    "# define model architecture in pytorch\n",
    "import torch.nn as nn\n",
    "import torch.nn.functional as F\n",
    "\n",
    "\n",
    "class Net(nn.Module):\n",
    "  def __init__(self):\n",
    "    super(Net, self).__init__()\n",
    "    self.fc1 = nn.Linear(input_d, hidden_layer1_d)\n",
    "    self.fc2 = nn.Linear(hidden_layer1_d, output_d)\n",
    "\n",
    "  def forward(self, x):\n",
    "    x = F.relu(self.fc1(x))\n",
    "    x = F.relu(self.fc2(x))\n",
    "    # normally, this is where softmax used for normalization, \n",
    "    # however, in pytorch, CrossEntropyLoss will do for us \n",
    "    return x\n",
    "\n",
    "\n",
    "net = Net()"
   ]
  },
  {
   "cell_type": "code",
   "execution_count": 0,
   "metadata": {
    "colab": {},
    "colab_type": "code",
    "id": "_7GWnOpOpCIK"
   },
   "outputs": [],
   "source": [
    "# prepare train, validation, test sets\n",
    "X = df.iloc[:, [0, 1, 3, 5]]\n",
    "y = df.iloc[:, 2]\n",
    "\n",
    "import numpy as np\n",
    "from sklearn.model_selection import train_test_split\n",
    "# 70% train, 21% validation, 9% test\n",
    "X_train, X_validation, y_train, y_validation = train_test_split(X, y, test_size=0.3, random_state=42)\n",
    "X_validation, X_test, y_validation, y_test = train_test_split(X_validation, y_validation, test_size=0.3, random_state=41)"
   ]
  },
  {
   "cell_type": "code",
   "execution_count": 0,
   "metadata": {
    "colab": {},
    "colab_type": "code",
    "id": "lMnBuA56wi4o"
   },
   "outputs": [],
   "source": [
    "# define optimizer\n",
    "import torch.optim as optim\n",
    "\n",
    "criterion = nn.CrossEntropyLoss()\n",
    "optimizer = optim.SGD(net.parameters(), lr=0.01, momentum=0.9)"
   ]
  },
  {
   "cell_type": "code",
   "execution_count": 0,
   "metadata": {
    "colab": {},
    "colab_type": "code",
    "id": "V5KSMhJLzV_g"
   },
   "outputs": [],
   "source": [
    "import torch\n",
    "\n",
    "# generate tensor for pytorch model's input and output for SGD\n",
    "def batch_generator(X, y, batch_size):\n",
    "  for i in range(X.shape[0]//batch_size):\n",
    "    batch_input = X.iloc[i*batch_size: i*batch_size + batch_size]\n",
    "    batch_output = y.iloc[i*batch_size: i*batch_size + batch_size]\n",
    "\n",
    "    tensor_input = []\n",
    "    tensor_output = []\n",
    "    for _, input_ in batch_input.iterrows():\n",
    "      userId_vector = np.zeros(len(userId_map))\n",
    "      userId_vector[userId_map[input_.userId]] = 1.\n",
    "                    \n",
    "      movieId_vector = np.zeros(len(movieId_map))\n",
    "      movieId_vector[movieId_map[input_.movieId]] = 1.\n",
    "\n",
    "      year_vector = np.zeros(len(year_map))\n",
    "      year_vector[year_map[input_.timestamp]] = 1.\n",
    "\n",
    "      genre_vector = np.zeros(len(genres_map))\n",
    "      for g in input_.genres.split('|'):\n",
    "        genre_vector[genres_map[g]] = 1.\n",
    "      \n",
    "      concat_vector = np.concatenate((userId_vector, movieId_vector, year_vector, genre_vector))\n",
    "      tensor_input.append(concat_vector)\n",
    "\n",
    "    for _, output in batch_output.iteritems():\n",
    "      tensor_output.append(rating_map[output])\n",
    "    \n",
    "    tensor_input = torch.FloatTensor(tensor_input)\n",
    "    # type long (64bit integer) for CrossEntropyLoss implementation\n",
    "    tensor_output = torch.tensor(tensor_output, dtype=torch.long)\n",
    "\n",
    "    yield tensor_input, tensor_output"
   ]
  },
  {
   "cell_type": "code",
   "execution_count": 77,
   "metadata": {
    "colab": {
     "base_uri": "https://localhost:8080/",
     "height": 544
    },
    "colab_type": "code",
    "executionInfo": {
     "elapsed": 352230,
     "status": "ok",
     "timestamp": 1581878507732,
     "user": {
      "displayName": "Reverie Yung",
      "photoUrl": "https://lh3.googleusercontent.com/a-/AAuE7mDse36DSuXrIsAb88zhKhOHmqPmc7gYxaCgWYBlgOE=s64",
      "userId": "11337003563921778338"
     },
     "user_tz": -480
    },
    "id": "N_klGajDwlU7",
    "outputId": "1059266a-4979-4c39-8d01-4e0896c9e355"
   },
   "outputs": [
    {
     "name": "stdout",
     "output_type": "stream",
     "text": [
      "[1, 10] average_loss per batch: 2.3016562938690184\n",
      "[1, 20] average_loss per batch: 2.2998040199279783\n",
      "[1, 30] average_loss per batch: 2.297721195220947\n",
      "[1, 40] average_loss per batch: 2.2959747314453125\n",
      "[1, 50] average_loss per batch: 2.2952499389648438\n",
      "[1, 60] average_loss per batch: 2.295028638839722\n",
      "[1, 70] average_loss per batch: 2.292549896240234\n",
      "[1, 80] average_loss per batch: 2.2926509380340576\n",
      "[1, 90] average_loss per batch: 2.293147253990173\n",
      "[1, 100] average_loss per batch: 2.2921805143356324\n",
      "[2, 10] average_loss per batch: 2.2889446020126343\n",
      "[2, 20] average_loss per batch: 2.292554998397827\n",
      "[2, 30] average_loss per batch: 2.2900570154190065\n",
      "[2, 40] average_loss per batch: 2.289508414268494\n",
      "[2, 50] average_loss per batch: 2.290358066558838\n",
      "[2, 60] average_loss per batch: 2.291586422920227\n",
      "[2, 70] average_loss per batch: 2.288281464576721\n",
      "[2, 80] average_loss per batch: 2.2893990516662597\n",
      "[2, 90] average_loss per batch: 2.290741729736328\n",
      "[2, 100] average_loss per batch: 2.289713406562805\n",
      "[3, 10] average_loss per batch: 2.2859413623809814\n",
      "[3, 20] average_loss per batch: 2.2907176971435548\n",
      "[3, 30] average_loss per batch: 2.2876972436904905\n",
      "[3, 40] average_loss per batch: 2.287285566329956\n",
      "[3, 50] average_loss per batch: 2.2882750988006593\n",
      "[3, 60] average_loss per batch: 2.2897420167922973\n",
      "[3, 70] average_loss per batch: 2.285940909385681\n",
      "[3, 80] average_loss per batch: 2.2872622489929197\n",
      "[3, 90] average_loss per batch: 2.288699817657471\n",
      "[3, 100] average_loss per batch: 2.287491726875305\n",
      "Finished Training\n"
     ]
    }
   ],
   "source": [
    "# loop over the dataset multiple times\n",
    "batch_size = 700\n",
    "\n",
    "for epoch in range(3):\n",
    "\n",
    "  running_loss = 0.0\n",
    "  batch_no = 0\n",
    "  for inputs, labels in batch_generator(X_train, y_train, batch_size):\n",
    "\n",
    "    # zero the parameter gradients\n",
    "    optimizer.zero_grad()\n",
    "\n",
    "    # forward + backward + optimize\n",
    "    outputs = net(inputs)\n",
    "    loss = criterion(outputs, labels)\n",
    "    loss.backward()\n",
    "    optimizer.step()\n",
    "\n",
    "    # print statistics\n",
    "    running_loss += loss.item()\n",
    "    if batch_no % 10 == 9:\n",
    "      print('[{}, {}] average_loss per batch: {}'.format(epoch+1, batch_no+1, running_loss/10))\n",
    "      running_loss = 0.0\n",
    "    \n",
    "    batch_no += 1\n",
    "\n",
    "print('Finished Training')"
   ]
  },
  {
   "cell_type": "code",
   "execution_count": 0,
   "metadata": {
    "colab": {},
    "colab_type": "code",
    "id": "Ls5ZofzVQzfA"
   },
   "outputs": [],
   "source": [
    "def predict(model, X):\n",
    "  outputs = model(X)\n",
    "  _, predicted = torch.max(outputs, 1)\n",
    "  return predicted\n",
    "\n",
    "# save our initial model\n",
    "PATH = './drive/My Drive/focus/recommender-system/recommendation-system/2layer-lr_0.01.pth'\n",
    "torch.save(net.state_dict(), PATH)"
   ]
  },
  {
   "cell_type": "code",
   "execution_count": 85,
   "metadata": {
    "colab": {
     "base_uri": "https://localhost:8080/",
     "height": 34
    },
    "colab_type": "code",
    "executionInfo": {
     "elapsed": 35073,
     "status": "ok",
     "timestamp": 1581880063878,
     "user": {
      "displayName": "Reverie Yung",
      "photoUrl": "https://lh3.googleusercontent.com/a-/AAuE7mDse36DSuXrIsAb88zhKhOHmqPmc7gYxaCgWYBlgOE=s64",
      "userId": "11337003563921778338"
     },
     "user_tz": -480
    },
    "id": "JfQfwBwZVvPn",
    "outputId": "16c9850e-d7d8-4547-9e32-bd853baf7ab6"
   },
   "outputs": [
    {
     "name": "stdout",
     "output_type": "stream",
     "text": [
      "validation accuracy: 0.18394332939787486\n"
     ]
    }
   ],
   "source": [
    "# test model on unseen validation data\n",
    "with torch.no_grad():\n",
    "  X_vali, y_vali = list(batch_generator(X_validation, y_validation, len(X_validation)))[0]\n",
    "  prediction = predict(net, X_vali)\n",
    "  print('validation accuracy: {}'.format((prediction == y_vali).sum().item()/y_vali.size(0)))"
   ]
  },
  {
   "cell_type": "markdown",
   "metadata": {
    "colab_type": "text",
    "id": "_xTbiXNtZtZC"
   },
   "source": [
    "That's better than random guess already, since we have 10 classes, random guessing is just 10% accuracy, lets try to increase learning rate more and 50 more epochs or until validation accuracy start to fall, whichever comes first."
   ]
  },
  {
   "cell_type": "code",
   "execution_count": 0,
   "metadata": {
    "colab": {
     "base_uri": "https://localhost:8080/",
     "height": 1000
    },
    "colab_type": "code",
    "id": "_Kq3Ml0QZCiN",
    "outputId": "8660d3cb-c0f5-4fc7-e163-ae5e5256ff3b"
   },
   "outputs": [
    {
     "name": "stdout",
     "output_type": "stream",
     "text": [
      "[1, 30] average_loss per batch: 2.046367565790812\n",
      "[1, 60] average_loss per batch: 2.0525685866673786\n",
      "[1, 90] average_loss per batch: 2.040339477856954\n",
      "validation_accuracy: 0.291\n",
      "[2, 30] average_loss per batch: 2.032914451758067\n",
      "[2, 60] average_loss per batch: 2.0388729850451153\n",
      "[2, 90] average_loss per batch: 2.026104247570038\n",
      "validation_accuracy: 0.299\n",
      "[3, 30] average_loss per batch: 2.0202063798904417\n",
      "[3, 60] average_loss per batch: 2.0261975089708963\n",
      "[3, 90] average_loss per batch: 2.012959027290344\n",
      "validation_accuracy: 0.306\n",
      "[4, 30] average_loss per batch: 2.0083152135213216\n",
      "[4, 60] average_loss per batch: 2.014094281196594\n",
      "[4, 90] average_loss per batch: 2.0006033420562743\n",
      "validation_accuracy: 0.312\n",
      "[5, 30] average_loss per batch: 1.9970717469851176\n",
      "[5, 60] average_loss per batch: 2.0025988578796388\n",
      "[5, 90] average_loss per batch: 1.9890829086303712\n",
      "validation_accuracy: 0.315\n",
      "[6, 30] average_loss per batch: 1.9865351041158041\n",
      "[6, 60] average_loss per batch: 1.9918375968933106\n",
      "[6, 90] average_loss per batch: 1.9784358859062194\n",
      "validation_accuracy: 0.314\n",
      "[7, 30] average_loss per batch: 1.9765895406405132\n",
      "[7, 60] average_loss per batch: 1.9816889961560566\n",
      "[7, 90] average_loss per batch: 1.9684604247411093\n",
      "validation_accuracy: 0.3135\n",
      "[8, 30] average_loss per batch: 1.967216165860494\n",
      "[8, 60] average_loss per batch: 1.9722172458966574\n",
      "[8, 90] average_loss per batch: 1.9592132687568664\n",
      "validation_accuracy: 0.316\n",
      "[9, 30] average_loss per batch: 1.9584725936253866\n",
      "[9, 60] average_loss per batch: 1.963377547264099\n",
      "[9, 90] average_loss per batch: 1.9505785862604776\n",
      "validation_accuracy: 0.32\n",
      "[10, 30] average_loss per batch: 1.9503492355346679\n",
      "[10, 60] average_loss per batch: 1.9551320552825928\n",
      "[10, 90] average_loss per batch: 1.9425835569699605\n",
      "validation_accuracy: 0.3225\n",
      "[11, 30] average_loss per batch: 1.942858914534251\n",
      "[11, 60] average_loss per batch: 1.9475252548853557\n",
      "[11, 90] average_loss per batch: 1.9352211236953736\n",
      "validation_accuracy: 0.3265\n",
      "[12, 30] average_loss per batch: 1.9358516256014506\n",
      "[12, 60] average_loss per batch: 1.9404747565587361\n",
      "[12, 90] average_loss per batch: 1.928378657499949\n",
      "validation_accuracy: 0.3275\n",
      "[13, 30] average_loss per batch: 1.9293499986330669\n",
      "[13, 60] average_loss per batch: 1.9339206298192342\n",
      "[13, 90] average_loss per batch: 1.921962821483612\n",
      "validation_accuracy: 0.3315\n",
      "[14, 30] average_loss per batch: 1.9232830166816712\n",
      "[14, 60] average_loss per batch: 1.927824894587199\n",
      "[14, 90] average_loss per batch: 1.9159886082013449\n",
      "validation_accuracy: 0.3295\n",
      "[15, 30] average_loss per batch: 1.9175825238227844\n",
      "[15, 60] average_loss per batch: 1.9221153537432352\n",
      "[15, 90] average_loss per batch: 1.910377844174703\n",
      "validation_accuracy: 0.3285\n",
      "[16, 30] average_loss per batch: 1.9122301816940308\n",
      "[16, 60] average_loss per batch: 1.9167052388191224\n",
      "[16, 90] average_loss per batch: 1.9051116387049356\n",
      "validation_accuracy: 0.3275\n",
      "[17, 30] average_loss per batch: 1.9071508606274923\n",
      "[17, 60] average_loss per batch: 1.911660333474477\n",
      "[17, 90] average_loss per batch: 1.9001533706982932\n",
      "validation_accuracy: 0.3285\n",
      "[18, 30] average_loss per batch: 1.9023374795913697\n",
      "[18, 60] average_loss per batch: 1.9068065524101256\n",
      "[18, 90] average_loss per batch: 1.8954540848731996\n",
      "validation_accuracy: 0.3275\n",
      "[19, 30] average_loss per batch: 1.8977771004041035\n",
      "[19, 60] average_loss per batch: 1.9021859645843506\n",
      "[19, 90] average_loss per batch: 1.8909747401873271\n",
      "validation_accuracy: 0.3305\n",
      "[20, 30] average_loss per batch: 1.8933784365653992\n",
      "[20, 60] average_loss per batch: 1.8977834542592367\n",
      "[20, 90] average_loss per batch: 1.8866915901501973\n",
      "validation_accuracy: 0.331\n",
      "[21, 30] average_loss per batch: 1.8891717314720153\n",
      "[21, 60] average_loss per batch: 1.8935468872388204\n",
      "[21, 90] average_loss per batch: 1.8826016465822855\n",
      "validation_accuracy: 0.3305\n",
      "[22, 30] average_loss per batch: 1.8851301630338033\n",
      "[22, 60] average_loss per batch: 1.8894809206326804\n",
      "[22, 90] average_loss per batch: 1.8786589980125428\n",
      "validation_accuracy: 0.331\n",
      "[23, 30] average_loss per batch: 1.8812648097674052\n",
      "[23, 60] average_loss per batch: 1.8855642994244894\n",
      "[23, 90] average_loss per batch: 1.8748488903045655\n",
      "validation_accuracy: 0.3295\n",
      "[24, 30] average_loss per batch: 1.8775315403938293\n",
      "[24, 60] average_loss per batch: 1.8817929029464722\n",
      "[24, 90] average_loss per batch: 1.871188998222351\n",
      "validation_accuracy: 0.327\n",
      "[25, 30] average_loss per batch: 1.8738645315170288\n",
      "[25, 60] average_loss per batch: 1.8781211256980896\n",
      "[25, 90] average_loss per batch: 1.8676220218340556\n",
      "validation_accuracy: 0.3255\n",
      "[26, 30] average_loss per batch: 1.8703181465466818\n",
      "[26, 60] average_loss per batch: 1.8745484828948975\n",
      "[26, 90] average_loss per batch: 1.8640960931777955\n",
      "validation_accuracy: 0.324\n",
      "[27, 30] average_loss per batch: 1.8668936252593995\n",
      "[27, 60] average_loss per batch: 1.8711096485455831\n",
      "[27, 90] average_loss per batch: 1.8607194979985555\n",
      "validation_accuracy: 0.324\n",
      "[28, 30] average_loss per batch: 1.8635865688323974\n",
      "[28, 60] average_loss per batch: 1.8676973541577657\n",
      "[28, 90] average_loss per batch: 1.8573862155278524\n",
      "validation_accuracy: 0.325\n",
      "[29, 30] average_loss per batch: 1.860354745388031\n",
      "[29, 60] average_loss per batch: 1.8643858710924783\n",
      "[29, 90] average_loss per batch: 1.8541686296463014\n",
      "validation_accuracy: 0.3215\n",
      "[30, 30] average_loss per batch: 1.8572008570035299\n",
      "[30, 60] average_loss per batch: 1.8611369887987772\n",
      "[30, 90] average_loss per batch: 1.8510112484296164\n",
      "validation_accuracy: 0.321\n",
      "[31, 30] average_loss per batch: 1.8541526913642883\n",
      "[31, 60] average_loss per batch: 1.8579769333203633\n",
      "[31, 90] average_loss per batch: 1.8479873458544414\n",
      "validation_accuracy: 0.32\n",
      "[32, 30] average_loss per batch: 1.8511491616566975\n",
      "[32, 60] average_loss per batch: 1.8548612356185914\n",
      "[32, 90] average_loss per batch: 1.8450351675351462\n",
      "validation_accuracy: 0.321\n",
      "[33, 30] average_loss per batch: 1.8482388297716776\n",
      "[33, 60] average_loss per batch: 1.8518619418144227\n"
     ]
    }
   ],
   "source": [
    "optimizer_1 = optim.SGD(net.parameters(), lr=0.03, momentum=0.9)\n",
    "\n",
    "sample_size = 2000\n",
    "X_validation_sample = X_validation.iloc[:sample_size].copy()\n",
    "y_validation_sample = y_validation.iloc[:sample_size].copy()\n",
    "\n",
    "def validation_accuracy(model, X_validation, y_validation):\n",
    "  with torch.no_grad():\n",
    "    X_vali, y_vali = list(batch_generator(X_validation, y_validation, len(X_validation)))[0]\n",
    "    prediction = predict(model, X_vali)\n",
    "    return (prediction == y_vali).sum().item()/y_vali.size(0)\n",
    "\n",
    "def second_training():\n",
    "  # loop over the dataset multiple times\n",
    "  batch_size = 700\n",
    "  last_vali_acc = 0.\n",
    "\n",
    "  for epoch in range(50):\n",
    "\n",
    "    running_loss = 0.0\n",
    "    batch_no = 0\n",
    "    for inputs, labels in batch_generator(X_train, y_train, batch_size):\n",
    "\n",
    "      # zero the parameter gradients\n",
    "      optimizer_1.zero_grad()\n",
    "\n",
    "      # forward + backward + optimize\n",
    "      outputs = net(inputs)\n",
    "      loss = criterion(outputs, labels)\n",
    "      loss.backward()\n",
    "      optimizer_1.step()\n",
    "\n",
    "      # print statistics\n",
    "      running_loss += loss.item()\n",
    "      if batch_no % 30 == 29:\n",
    "        print('[{}, {}] average_loss per batch: {}'.format(epoch+1, batch_no+1, running_loss/30))\n",
    "        running_loss = 0.0\n",
    "      \n",
    "      batch_no += 1\n",
    "\n",
    "    # check if validation accuracy drops to prevent overfitting\n",
    "    vali_acc = validation_accuracy(net, X_validation_sample, y_validation_sample)\n",
    "    if last_vali_acc - vali_acc > 0.03:\n",
    "      print('Early Stopping, validation_accuracy: {}'.format(vali_acc))\n",
    "      break\n",
    "    else:\n",
    "      last_vali_acc = vali_acc\n",
    "      print('validation_accuracy: {}'.format(vali_acc))\n",
    "\n",
    "  print('Finished Training')\n",
    "\n",
    "second_training()"
   ]
  },
  {
   "cell_type": "code",
   "execution_count": 0,
   "metadata": {
    "colab": {},
    "colab_type": "code",
    "id": "CnIpg-14iKey"
   },
   "outputs": [],
   "source": [
    "# save our second model\n",
    "PATH = './drive/My Drive/focus/recommender-system/recommendation-system/50_epochs-earlyStopping-lr_0.03.pth'\n",
    "torch.save(net.state_dict(), PATH)"
   ]
  },
  {
   "cell_type": "code",
   "execution_count": 0,
   "metadata": {
    "colab": {},
    "colab_type": "code",
    "id": "b7CADHNdkZ5V"
   },
   "outputs": [],
   "source": []
  }
 ],
 "metadata": {
  "accelerator": "TPU",
  "colab": {
   "authorship_tag": "ABX9TyOAq1b2pspc4/An3AvZENyt",
   "collapsed_sections": [],
   "mount_file_id": "1EumuKUzsyBG9oRNDyXYKTBlJY7mJxcd6",
   "name": "MovieLens dataset.ipynb",
   "provenance": [],
   "toc_visible": true
  },
  "kernelspec": {
   "display_name": "Python 3",
   "language": "python",
   "name": "python3"
  },
  "language_info": {
   "codemirror_mode": {
    "name": "ipython",
    "version": 3
   },
   "file_extension": ".py",
   "mimetype": "text/x-python",
   "name": "python",
   "nbconvert_exporter": "python",
   "pygments_lexer": "ipython3",
   "version": "3.7.3"
  }
 },
 "nbformat": 4,
 "nbformat_minor": 1
}
